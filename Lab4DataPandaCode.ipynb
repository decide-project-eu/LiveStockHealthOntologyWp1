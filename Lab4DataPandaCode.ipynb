{
 "cells": [
  {
   "cell_type": "code",
   "execution_count": null,
   "id": "7d32abff",
   "metadata": {},
   "outputs": [],
   "source": [
    "! pip install pandas\n",
    "! pip install openpyxl\n",
    "\n",
    "import pandas as pd\n",
    "import rdflib\n",
    "import hashlib\n",
    "import numpy as np\n",
    "from datetime import datetime\n",
    "from pandas.api.types import CategoricalDtype\n",
    "from rdflib import Literal, Namespace, RDF, URIRef\n",
    "from rdflib.namespace import FOAF, XSD\n",
    "from rdflib import Graph, Namespace, RDF, RDFS, OWL\n",
    "from rdflib.plugins.sparql import prepareQuery\n",
    "from pyspark.sql.functions import when, col, lit"
   ]
  },
  {
   "cell_type": "markdown",
   "id": "76f5d238",
   "metadata": {},
   "source": [
    "### Step01: Define The file paths and load Data into Pandas dataframes and Clean\n"
   ]
  },
  {
   "cell_type": "code",
   "execution_count": null,
   "id": "f17dfdf5",
   "metadata": {},
   "outputs": [],
   "source": [
    "# Define the file paths\n",
    "files = ['Data/Pathosen/AllBovineRespiratory_NegativesIncluded.csv']\n",
    "\n",
    "# Load the data into Pandas dataframes\n",
    "dfs = []\n",
    "for file in files:\n",
    "    df = pd.read_csv(file)\n",
    "    dfs.append(df)\n",
    "\n",
    "barometer_dt_raw = dfs[0]"
   ]
  },
  {
   "cell_type": "code",
   "execution_count": null,
   "id": "b4f917fa",
   "metadata": {},
   "outputs": [],
   "source": [
    "# Rename columns\n",
    "barometer_dt_raw.rename(columns={\n",
    "    'sample_id': 'FileNumber',\n",
    "    'farm_id': 'FarmID',\n",
    "    'created': 'Date'\n",
    "}, inplace=True)\n",
    "\n",
    "# Mutate new columns\n",
    "barometer_dt_raw['LabReference'] = '4'\n",
    "barometer_dt_raw['DiagnosticTest'] = 'NPS'\n",
    "barometer_dt_raw['Breed'] = 'Unknown'\n",
    "barometer_dt_raw['Province'] = pd.NA\n",
    "\n",
    "# Map values for Country column\n",
    "country_mapping = {\n",
    "    'BE': 'Belgium',\n",
    "    'NL': 'The Netherlands'\n",
    "}\n",
    "barometer_dt_raw['Country'] = barometer_dt_raw['country'].map(country_mapping)\n",
    "\n",
    "# Map values for Sample_type column\n",
    "sample_type_mapping = {\n",
    "    'balFluid': 'BAL',\n",
    "    'noseSwab': 'Swab'\n",
    "}\n",
    "barometer_dt_raw['SampleType'] = barometer_dt_raw['type'].map(sample_type_mapping).fillna('Other')\n",
    "barometer_dt_raw['Province'].fillna('Unknown', inplace=True)\n",
    "\n",
    "# Fill missing values in pathogens column with empty string\n",
    "barometer_dt_raw['pathogens'].fillna('', inplace=True)\n",
    "\n",
    "# Create new columns for pathogens\n",
    "barometer_dt_raw['HS'] = barometer_dt_raw['pathogens'].str.contains('Histophilus somni').astype(int)\n",
    "barometer_dt_raw['MH'] = barometer_dt_raw['pathogens'].str.contains('Mannheimia haemolytica').astype(int)\n",
    "barometer_dt_raw['PM'] = barometer_dt_raw['pathogens'].str.contains('Pasteurella multocida').astype(int)\n",
    "barometer_dt_raw['BCV'] = barometer_dt_raw['pathogens'].str.contains('Bovine coronavirus').astype(int)\n",
    "barometer_dt_raw['MB'] = barometer_dt_raw['pathogens'].str.contains('Mycoplasmopsis bovis').astype(int)\n",
    "barometer_dt_raw['PI3'] = barometer_dt_raw['pathogens'].str.contains('Bovine respirovirus 3').astype(int)\n",
    "barometer_dt_raw['BRSV'] = barometer_dt_raw['pathogens'].str.contains('Bovine orthopneumovirus').astype(int)\n",
    "\n",
    "# Select desired columns\n",
    "barometer_dt = barometer_dt_raw[['FileNumber', 'LabReference', 'Country', 'Breed', 'Province', 'FarmID',\n",
    "                                 'DiagnosticTest', 'SampleType', 'PM', 'MH', 'HS', 'MB', 'BRSV', 'PI3', 'BCV', 'Date']]\n",
    "\n",
    "# Drop duplicates\n",
    "barometer_dt.drop_duplicates(inplace=True)\n",
    "\n",
    "# Convert Filenumber and Farm_ID to SHA256 hash\n",
    "barometer_dt['FileNumber'] = barometer_dt['FileNumber'].apply(lambda x: hashlib.sha256(str(x).encode()).hexdigest())\n",
    "barometer_dt['FarmID'] = barometer_dt['FarmID'].apply(lambda x: hashlib.sha256(str(x).encode()).hexdigest())\n",
    "\n",
    "\n"
   ]
  },
  {
   "cell_type": "code",
   "execution_count": null,
   "id": "8e211ab0",
   "metadata": {},
   "outputs": [],
   "source": [
    "# Convert Date column to datetime\n",
    "barometer_dt['Date'] = pd.to_datetime(barometer_dt['Date'])\n",
    "\n",
    "# Floor date to 1st of month\n",
    "barometer_dt['Floored_date'] = barometer_dt['Date'].dt.to_period('M').dt.to_timestamp()\n",
    "\n",
    "# Aggregate data based on farm_ID & month\n",
    "barometer_groupby = barometer_dt.groupby(['LabReference', 'Country', 'Breed', 'Floored_date', 'Province', 'FarmID', 'DiagnosticTest', 'SampleType'])[['PM', 'MH', 'HS', 'MB', 'BRSV', 'PI3', 'BCV']].max(min_count=1)\n",
    "\n",
    "# Convert to long\n",
    "barometer_long = barometer_groupby.reset_index().melt(id_vars=['LabReference', 'Country', 'Breed', 'Floored_date', 'Province', 'FarmID', 'DiagnosticTest', 'SampleType'],\n",
    "                                                      var_name='Pathogen', value_name='Result')\n",
    "\n",
    "# Convert Floored_date back to datetime (for consistency)\n",
    "barometer_long['Floored_date'] = pd.to_datetime(barometer_long['Floored_date'])\n"
   ]
  },
  {
   "cell_type": "markdown",
   "id": "da18d0cc",
   "metadata": {},
   "source": [
    "### Step 02: Create RDF graph and namespaces "
   ]
  },
  {
   "cell_type": "code",
   "execution_count": null,
   "id": "0a15103b",
   "metadata": {},
   "outputs": [],
   "source": [
    "g = rdflib.Graph()\n",
    "onto = Namespace(\"http://www.purl.org/decide/LivestockHealthOnto\")\n",
    "g.bind('onto', onto)\n",
    "xsd = Namespace('http://www.w3.org/2001/XMLSchema#')\n",
    "g.bind('xsd', xsd)"
   ]
  },
  {
   "cell_type": "markdown",
   "id": "23e6c122",
   "metadata": {},
   "source": [
    "###  Step 03: Iterate over the Panda DataFrame and map to ontology properties:"
   ]
  },
  {
   "cell_type": "code",
   "execution_count": null,
   "id": "f821b6da",
   "metadata": {},
   "outputs": [],
   "source": [
    "# Iterate through the rows of the barometer_long dataframe and create RDF triples\n",
    "for index, row in barometer_long.iterrows():\n",
    "    # Create a URI for the CattleSample based on the index\n",
    "    CattleSample = onto[f\"CattleSample_{index}\"]\n",
    "    \n",
    "    # Add triples for each attribute in the row\n",
    "    g.add((CattleSample, onto.hasDiagnosticTest, Literal(row['DiagnosticTest'], datatype=XSD.string)))\n",
    "    g.add((CattleSample, onto.hasCountry, Literal(row['Country'], datatype=XSD.string)))\n",
    "    g.add((CattleSample, onto.hasBreed, Literal(row['Breed'], datatype=XSD.string)))\n",
    "    g.add((CattleSample, onto.hasDate, Literal(row['Floored_date'], datatype=XSD.string)))\n",
    "    g.add((CattleSample, onto.hasProvince, Literal(row['Province'], datatype=XSD.string)))\n",
    "    g.add((CattleSample, onto.hasFarmIdentification, Literal(row['FarmID'], datatype=XSD.string)))\n",
    "    g.add((CattleSample, onto.hasSampleType, Literal(row['SampleType'], datatype=XSD.string)))\n",
    "    g.add((CattleSample, onto.hasPathogen, Literal(row['Pathogen'], datatype=XSD.string)))\n",
    "    g.add((CattleSample, onto.hasResult, Literal(row['Result'], datatype=XSD.string)))\n",
    "    g.add((CattleSample, onto.hasLabreference, Literal(row['LabReference'], datatype=XSD.string)))\n",
    "    \n",
    "g.serialize(destination='output/RDFoutputCattleSampleLab4.ttl', format='turtle')\n"
   ]
  },
  {
   "cell_type": "markdown",
   "id": "4f13e325",
   "metadata": {},
   "source": [
    "### Step 4: Load the RDF data and ontology into a Panda DataFrame: "
   ]
  },
  {
   "cell_type": "code",
   "execution_count": null,
   "id": "ed0cba68",
   "metadata": {},
   "outputs": [],
   "source": [
    "# Define the original path\n",
    "path_to_RDF = \"output/RDFoutputCattleSampleLab4.ttl\"\n",
    "\n",
    "# Try to parse the file and catch any errors\n",
    "try:\n",
    "    # Create a new graph\n",
    "    g = Graph()\n",
    "\n",
    "    # Parse the RDF file in Turtle format\n",
    "    g.parse(path_to_RDF, format='ttl')\n",
    "\n",
    "    # Parse the ontology file in OWL format and add it to the graph\n",
    "    path_to_ontology = \"Ontology/LivestockHealthOnto1.0.owl\"\n",
    "    g.parse(path_to_ontology, format=\"xml\")\n",
    "    \n",
    "except Exception as e:\n",
    "    # Print the error message\n",
    "    print(f\"An error occurred while parsing the RDF file: {e}\")"
   ]
  },
  {
   "cell_type": "code",
   "execution_count": null,
   "id": "6a2d7a27",
   "metadata": {},
   "outputs": [],
   "source": [
    "#Use RDFS or OWL reasoning to infer additional knowledge\n",
    "g.bind('rdfs', RDFS)\n",
    "g.bind('owl', OWL)\n",
    "g.bind('onto', Namespace(\"http://www.purl.org/decide/LivestockHealthOnto\"))"
   ]
  },
  {
   "cell_type": "markdown",
   "id": "8feba332",
   "metadata": {},
   "source": [
    "### Step 05: Query the data from updated ontology "
   ]
  },
  {
   "cell_type": "code",
   "execution_count": null,
   "id": "eac8024f",
   "metadata": {},
   "outputs": [],
   "source": [
    "# Define the SPARQL query and Query the data from the updated ontology (Simple Query)\n",
    "query = \"\"\"\n",
    "PREFIX onto: <http://www.purl.org/decide/LivestockHealthOnto>\n",
    "SELECT ?FarmIdentification ?DiagnosticTest ?SampleType ?Date ?Breed ?LabReference ?Pathogen ?Country ?Province ?Result\n",
    "WHERE {\n",
    "  ?CattleSample onto:hasFarmIdentification ?FarmIdentification .\n",
    "  ?CattleSample onto:hasDiagnosticTest ?DiagnosticTest .\n",
    "  ?CattleSample onto:hasSampleType ?SampleType .\n",
    "  ?CattleSample onto:hasDate ?Date .\n",
    "  ?CattleSample onto:hasBreed ?Breed .\n",
    "  ?CattleSample onto:hasLabreference ?LabReference .\n",
    "  ?CattleSample onto:hasPathogen ?Pathogen .\n",
    "  ?CattleSample onto:hasCountry ?Country .\n",
    "  ?CattleSample onto:hasProvince ?Province .\n",
    "  ?CattleSample onto:hasResult ?Result .\n",
    "  }\n",
    "\"\"\"\n",
    "\n",
    "# execute the query and retrieve the results\n",
    "results = g.query(query)\n",
    "\n",
    "# convert the results to a Pandas dataframe\n",
    "data = []\n",
    "for row in results:\n",
    "    data.append(list(row))\n",
    "df = pd.DataFrame(data, columns=[\"FarmIdentification\",\"DiagnosticTest\",\"SampleType\", \"Date\", \"Breed\",\"LabReference\",\"Pathogen\", \"Country\",\"Province\",\"Result\"])\n",
    "\n",
    "# display the dataframe\n",
    "df.head()\n"
   ]
  },
  {
   "cell_type": "code",
   "execution_count": null,
   "id": "c40c77a2",
   "metadata": {},
   "outputs": [],
   "source": [
    "# This SPARQL query shows the data over filter if SampleType is Autopsy, diagnostic Test is PCR and Breed is Dairy \n",
    "# Define the SPARQL query and Query the data from the updated ontology (Simple Query)\n",
    "query = \"\"\"\n",
    "PREFIX onto: <http://www.purl.org/decide/LivestockHealthOnto>\n",
    "SELECT ?FarmIdentification ?DiagnosticTest ?SampleType ?Date ?Breed ?LabReference ?Pathogen ?Country ?Province ?Result\n",
    "WHERE {\n",
    "  ?CattleSample onto:hasFarmIdentification ?FarmIdentification .\n",
    "  ?CattleSample onto:hasDiagnosticTest ?DiagnosticTest .\n",
    "  ?CattleSample onto:hasSampleType ?SampleType .\n",
    "  FILTER (?SampleType = \"Swab\")\n",
    "  ?CattleSample onto:hasDate ?Date .\n",
    "  ?CattleSample onto:hasBreed ?Breed .\n",
    "  ?CattleSample onto:hasLabreference ?LabReference .\n",
    "  ?CattleSample onto:hasPathogen ?Pathogen .\n",
    "  FILTER (?Pathogen = \"PM\")\n",
    "  ?CattleSample onto:hasCountry ?Country .\n",
    "  ?CattleSample onto:hasProvince ?Province .\n",
    "  ?CattleSample onto:hasResult ?Result .\n",
    "  }\n",
    "\"\"\"\n",
    "\n",
    "# execute the query and retrieve the results\n",
    "results = g.query(query)\n",
    "\n",
    "# convert the results to a Pandas dataframe\n",
    "data = []\n",
    "for row in results:\n",
    "    data.append(list(row))\n",
    "df = pd.DataFrame(data, columns=[\"FarmIdentification\",\"DiagnosticTest\",\"SampleType\", \"Date\", \"Breed\",\"LabReference\",\"Pathogen\", \"Country\",\"Province\",\"Result\"])\n",
    "\n",
    "# display the dataframe\n",
    "df.head()\n"
   ]
  },
  {
   "cell_type": "code",
   "execution_count": null,
   "id": "fad196ea",
   "metadata": {},
   "outputs": [],
   "source": []
  }
 ],
 "metadata": {
  "kernelspec": {
   "display_name": "Python 3 (ipykernel)",
   "language": "python",
   "name": "python3"
  },
  "language_info": {
   "codemirror_mode": {
    "name": "ipython",
    "version": 3
   },
   "file_extension": ".py",
   "mimetype": "text/x-python",
   "name": "python",
   "nbconvert_exporter": "python",
   "pygments_lexer": "ipython3",
   "version": "3.9.13"
  }
 },
 "nbformat": 4,
 "nbformat_minor": 5
}
