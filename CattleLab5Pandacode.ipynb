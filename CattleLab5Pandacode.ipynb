{
 "cells": [
  {
   "cell_type": "markdown",
   "id": "e3fac2fd",
   "metadata": {},
   "source": [
    "### Install and Import the necessary classes from the RDFlib library:"
   ]
  },
  {
   "cell_type": "code",
   "execution_count": 1,
   "id": "3508e9e3",
   "metadata": {},
   "outputs": [
    {
     "name": "stdout",
     "output_type": "stream",
     "text": [
      "Requirement already satisfied: pandas in c:\\users\\saban\\anaconda3\\lib\\site-packages (1.4.4)\n",
      "Requirement already satisfied: pytz>=2020.1 in c:\\users\\saban\\anaconda3\\lib\\site-packages (from pandas) (2022.1)\n",
      "Requirement already satisfied: python-dateutil>=2.8.1 in c:\\users\\saban\\anaconda3\\lib\\site-packages (from pandas) (2.8.2)\n",
      "Requirement already satisfied: numpy>=1.18.5 in c:\\users\\saban\\anaconda3\\lib\\site-packages (from pandas) (1.21.5)\n",
      "Requirement already satisfied: six>=1.5 in c:\\users\\saban\\anaconda3\\lib\\site-packages (from python-dateutil>=2.8.1->pandas) (1.16.0)\n",
      "Requirement already satisfied: openpyxl in c:\\users\\saban\\anaconda3\\lib\\site-packages (3.0.10)\n",
      "Requirement already satisfied: et_xmlfile in c:\\users\\saban\\anaconda3\\lib\\site-packages (from openpyxl) (1.1.0)\n"
     ]
    }
   ],
   "source": [
    "! pip install pandas\n",
    "! pip install openpyxl\n",
    "\n",
    "import pandas as pd\n",
    "import rdflib\n",
    "import hashlib\n",
    "import numpy as np\n",
    "from rdflib import Literal, Namespace, RDF, URIRef\n",
    "from rdflib.namespace import FOAF, XSD\n",
    "from rdflib import Graph, Namespace, RDF, RDFS, OWL\n",
    "from rdflib.plugins.sparql import prepareQuery\n",
    "from pyspark.sql.functions import when, col, lit\n",
    "from pandas.tseries.offsets import MonthBegin\n"
   ]
  },
  {
   "cell_type": "markdown",
   "id": "609691a0",
   "metadata": {},
   "source": [
    "### Step 01: Define the file paths and Load the data into Pandas dataframes and Clean"
   ]
  },
  {
   "cell_type": "code",
   "execution_count": 2,
   "id": "eea34538",
   "metadata": {},
   "outputs": [],
   "source": [
    "# Define the file paths\n",
    "files = ['Data/Lab5/2021_Final_Anonymised_data_Only_2023-04-20.v2.xlsx', \n",
    "         'Data/Lab5/2022_Final_Anonymised_data_Only_2023-04-21.xlsx']\n",
    "\n",
    "# Load the data into Pandas dataframes\n",
    "dfs = []\n",
    "for file in files:\n",
    "    df = pd.read_excel(file, engine='openpyxl')\n",
    "    dfs.append(df)\n",
    "\n",
    "barometer_dt_raw_2021 = dfs[0]\n",
    "barometer_dt_raw_2022 = dfs[1]\n",
    "\n"
   ]
  },
  {
   "cell_type": "markdown",
   "id": "1c1cd5bb",
   "metadata": {},
   "source": [
    "### Clean the Data "
   ]
  },
  {
   "cell_type": "code",
   "execution_count": 3,
   "id": "9c64cfe4",
   "metadata": {},
   "outputs": [],
   "source": [
    "# Combine the datasets using pd.concat\n",
    "barometer_dt_combined = pd.concat([barometer_dt_raw_2021, barometer_dt_raw_2022], ignore_index=True)\n"
   ]
  },
  {
   "cell_type": "code",
   "execution_count": 4,
   "id": "95405ba7",
   "metadata": {},
   "outputs": [],
   "source": [
    "\n",
    "# Filter data using pandas\n",
    "conditions_system = (barometer_dt_combined['SYSTEM'].isin(['Respiratory', 'NA']))\n",
    "barometer_dt_filter = barometer_dt_combined[conditions_system]\n",
    "\n",
    "conditions_aliquot_matrix = (barometer_dt_filter['ALIQUOTMATRIXTYPE'].isin(['Pleural Fluid', 'Tissue swab', 'Tonsil',  'Lymph Node - Multiple',  'Trachea',  'Thoracic Fluid', 'Lung', 'Swab', 'Culture',  'Thymus', 'Part Carcass', 'Tissue swab', 'Nasal Swab', 'Nasal Fluid', 'Tissue-Pool', 'Tissue (VTM)', 'Carcass', 'Lymph Node', 'Pooled swab', 'Misc.']))\n",
    "barometer_dt_filter2 = barometer_dt_filter[conditions_aliquot_matrix]\n",
    "\n",
    "conditions_test = (barometer_dt_filter2['TEST'].isin([\"PI3V PCR\", \"PCR M. haemolytica - ARVL\", \"Mycoplasma bovis (PCR)\", \n",
    "                                                      \"PCR H. somni - ARVL\", \"PCR P. multocida - ARVL\", \"Miscellaneous Test\",\n",
    "                                                      \"Routine Culture\", \"PCR M. bovis - ARVL\", \"BRSV PCR\", \n",
    "                                                      \"Culture Growth\", \"PCR BoCoV\", \"Mycoplasma bovis (PCR)\"]))\n",
    "barometer_dt_filter3 = barometer_dt_filter2[conditions_test]\n"
   ]
  },
  {
   "cell_type": "code",
   "execution_count": 5,
   "id": "239f9b43",
   "metadata": {},
   "outputs": [],
   "source": [
    "# Data manipulation\n",
    "barometer_dt = barometer_dt_filter3.rename(columns={\n",
    "    'SDGa': 'FileNumber',\n",
    "    'SAMPLEa': 'SampleNumber',\n",
    "    'HERD_NOa': 'FarmID',\n",
    "    'DELIVERY_DATE': 'Date',\n",
    "    'Herd.Type': 'Breed'\n",
    "}).assign(\n",
    "    Country='Ireland',\n",
    "    LabReference='5',\n",
    "    SampleType=lambda x: x['ALIQUOTMATRIXTYPE'].map({\n",
    "        'Carcass': 'Autopsy',\n",
    "        'Lung': 'Autopsy',\n",
    "        'Thymus': 'Autopsy',\n",
    "        'Lymph Node - Multiple': 'Autopsy',\n",
    "        'Tissue-Pool': 'Autopsy',\n",
    "        'Lymph Node': 'Autopsy',\n",
    "        'Tissue (VTM)': 'Autopsy',\n",
    "        'Part Carcass': 'Autopsy',\n",
    "        'Swab': 'Swab',\n",
    "        'Nasal Swab': 'Swab',\n",
    "        'Pooled swab': 'Swab',\n",
    "        'Nasal Fluid': 'Swab',\n",
    "        'Trachea': 'Unknown',\n",
    "        'Thoracic Fluid': 'Unknown',\n",
    "        'Culture': 'Unknown',\n",
    "        'Fluid': 'Unknown',\n",
    "        'Misc.': 'Unknown',\n",
    "        'Pleural Fluid': 'Unknown'\n",
    "    }),\n",
    "    DiagnosticTest=lambda x: x['TEST'].map({\n",
    "        'PI3V PCR': 'PCR',\n",
    "        'PCR M. haemolytica - ARVL': 'PCR',\n",
    "        'Mycoplasma bovis (PCR)': 'PCR',\n",
    "        'PCR H. somni - ARVL': 'PCR',\n",
    "        'PCR M. bovis - ARVL': 'PCR',\n",
    "        'BRSV PCR': 'PCR',\n",
    "        'PCR BoCoV': 'PCR',\n",
    "        'Mycoplasma bovis (PCR)': 'PCR',\n",
    "        'PCR P. multocida - ARVL': 'PCR',\n",
    "        'Routine Culture': 'Culture',\n",
    "        'Culture Growth': 'Culture'\n",
    "    }),\n",
    "    Breed=lambda x: x['Breed'].map({\n",
    "        'BEEF': 'Beef',\n",
    "        'DAIRY': 'Dairy',\n",
    "        'SUCKLER': 'Suckler', \n",
    "        'OTHER': 'Unknown'\n",
    "    }),\n",
    "    Province=lambda x: x['County'],\n",
    "    Pathogen=lambda x: x['TEST'].map({\n",
    "        'PCR P. multocida - ARVL': 'PM',\n",
    "        'PCR M. haemolytica - ARVL': 'MH',\n",
    "        'PCR H. somni - ARVL': 'HS',\n",
    "        'Mycoplasma bovis (PCR)': 'MB',\n",
    "        'PCR M. bovis - ARVL': 'MB',\n",
    "        'PI3V PCR': 'PI3',\n",
    "        'PCR BoCoV': 'BCV',\n",
    "        'BRSV PCR': 'BRSV'\n",
    "    })\n",
    ").filter(items=[\n",
    "    'FileNumber', 'SampleNumber', 'DiagnosticTest', 'Country', \n",
    "    'LabReference', 'SampleType', 'Breed', 'Pathogen', 'Date', \n",
    "    'Province', 'RESULT', 'RESULTNAME', 'AGENT', 'FarmID'\n",
    "]).drop_duplicates().assign(\n",
    "    FileNumber=lambda x: x['FileNumber'].apply(lambda val: hashlib.sha256(str(val).encode()).hexdigest()),\n",
    "    SampleNumber=lambda x: x['SampleNumber'].apply(lambda val: hashlib.sha256(str(val).encode()).hexdigest()),\n",
    "    FarmID=lambda x: x['FarmID'].apply(lambda val: hashlib.sha256(str(val).encode()).hexdigest())\n",
    ")\n",
    "\n"
   ]
  },
  {
   "cell_type": "code",
   "execution_count": 6,
   "id": "89ff39b6",
   "metadata": {},
   "outputs": [],
   "source": [
    "# Add extra rows for cultuur (& MALDI & NGS?)\n",
    "pathogens = ['HS', 'MH', 'PM']\n",
    "barometer_dt['HS'] = barometer_dt.apply(lambda x: 0 if x['DiagnosticTest'] == 'Culture' else None, axis=1)\n",
    "barometer_dt['MH'] = barometer_dt.apply(lambda x: 0 if x['DiagnosticTest'] == 'Culture' else None, axis=1)\n",
    "barometer_dt['PM'] = barometer_dt.apply(lambda x: 0 if x['DiagnosticTest'] == 'Culture' else None, axis=1)\n",
    "\n",
    "barometer_dt_culture_wide = pd.melt(barometer_dt, id_vars=[\n",
    "    'FileNumber', 'SampleNumber', 'DiagnosticTest', 'Country', 'LabReference', \n",
    "    'SampleType', 'Breed', 'Pathogen', 'Date', 'Province', 'RESULT', 'RESULTNAME', \n",
    "    'AGENT', 'FarmID'\n",
    "], value_vars=pathogens, var_name='Pathogen_culture', value_name='Result_culture')\n",
    "\n",
    "barometer_dt_culture_wide['Pathogen'] = barometer_dt_culture_wide.apply(lambda x: x['Pathogen_culture'] if x['Pathogen'] == 'Missing' else x['Pathogen'], axis=1)\n",
    "\n",
    "\n",
    "# Create binary results PCR & culture\n",
    "def calculate_result(row):\n",
    "    if row['DiagnosticTest'] == 'PCR':\n",
    "        if row['RESULT'] in [\"Positive\", \"Weak Positive\", \"Mycoplasma bovis PCR Positive\", \"Strong Positive\"]:\n",
    "            return 1\n",
    "        elif row['RESULT'] in [\"No Pathogen detected\", \"Negative\", \"Sterile\", \"No Significant Growth\", \n",
    "                               \"No CT\", \"Mycoplasma bovis PCR Negative\", \"Mixed Non-Significant Bacterial Growth\", \n",
    "                               \"No Significant Growth @48hrs\", \"No Growth\", \"No Pathogen detectedn\", \n",
    "                               \"No RNA detected\", \"No DNA detected\", \"No Virus Detected\", \"Not Detected\"]:\n",
    "            return 0\n",
    "        else:\n",
    "            return None\n",
    "    elif row['DiagnosticTest'] == 'Culture':\n",
    "        if row['Pathogen'] in ['MH', 'PM', 'HS']:\n",
    "            if (row['Pathogen'] == 'MH' and row['RESULT'] == \"Mannheimia haemolytica\") or \\\n",
    "               (row['Pathogen'] == 'PM' and row['RESULT'] in [\"Pasteurella multocida\", \"P. multocida\"]) or \\\n",
    "               (row['Pathogen'] == 'HS' and row['RESULT'] in [\"Histophilus somni\", \"Histophilus somnus\", \"Histophilus somnii\"]):\n",
    "                return 1\n",
    "        else:\n",
    "            return 0\n",
    "    return None\n",
    "\n",
    "barometer_results = barometer_dt_culture_wide.assign(Result=lambda x: x.apply(calculate_result, axis=1)).filter(items=[\n",
    "    'FileNumber', 'SampleNumber', 'DiagnosticTest', 'Country', \n",
    "    'LabReference', 'SampleType', 'Breed', 'Pathogen', 'Result', 'Date', \n",
    "    'Province', 'RESULT', 'RESULTNAME', 'AGENT', 'FarmID'\n",
    "]).drop_duplicates().assign(\n",
    "    Filenumber=lambda x: x['FileNumber'].apply(lambda val: hashlib.sha256(str(val).encode()).hexdigest()),\n",
    "    Samplenumber=lambda x: x['SampleNumber'].apply(lambda val: hashlib.sha256(str(val).encode()).hexdigest()),\n",
    "    Farm_ID=lambda x: x['FarmID'].apply(lambda val: hashlib.sha256(str(val).encode()).hexdigest())\n",
    ")"
   ]
  },
  {
   "cell_type": "code",
   "execution_count": 7,
   "id": "915c4281",
   "metadata": {},
   "outputs": [],
   "source": [
    "\n",
    "barometer_results['Floored_date'] = pd.to_datetime(barometer_results['Date']).dt.to_period('M').dt.to_timestamp()\n",
    "\n",
    "barometer_results['Floored_date'] = barometer_results['Floored_date'].dt.date\n",
    "\n",
    "\n",
    "\n"
   ]
  },
  {
   "cell_type": "code",
   "execution_count": 8,
   "id": "c45fefdf",
   "metadata": {},
   "outputs": [],
   "source": [
    "\n",
    "\n",
    "#barometer_groupby = barometer_results.groupby(['LabReference', 'Country', 'Breed', 'Floored_date', 'Province',\n",
    "   #                                            'FarmID', 'DiagnosticTest', 'SampleType', 'Pathogen']) \\\n",
    "   # .apply(lambda group: group.max(numeric_only=True, skipna=True) if not group[[\"Result\"]].isna().all().all() else pd.DataFrame({\"Result\": [None]}))\n",
    "\n",
    "#barometer_groupby.reset_index(inplace=True)\n",
    "\n",
    "\n",
    "\n",
    "\n",
    "barometer_groupby = barometer_results.groupby(['LabReference', 'Country', 'Breed', 'Floored_date', 'Province', 'FarmID', 'DiagnosticTest', 'SampleType', 'Pathogen']).agg(Result=('Result', lambda x: np.nan if all(pd.isna(x)) else max(x.dropna())))\n",
    "barometer_groupby.reset_index(inplace=True)\n",
    "\n"
   ]
  },
  {
   "cell_type": "markdown",
   "id": "2d0cf014",
   "metadata": {},
   "source": [
    "### Step 02: Create an RDF graph and namespaces."
   ]
  },
  {
   "cell_type": "code",
   "execution_count": 9,
   "id": "e20de5f0",
   "metadata": {},
   "outputs": [],
   "source": [
    "g = rdflib.Graph()\n",
    "onto = Namespace(\"http://www.purl.org/decide/LivestockHealthOnto\")\n",
    "g.bind('onto', onto)\n",
    "xsd = Namespace('http://www.w3.org/2001/XMLSchema#')\n",
    "g.bind('xsd', xsd)"
   ]
  },
  {
   "cell_type": "markdown",
   "id": "873b6daf",
   "metadata": {},
   "source": [
    "###  Step 03: Iterate over the Panda DataFrame and map to ontology properties:"
   ]
  },
  {
   "cell_type": "code",
   "execution_count": 10,
   "id": "5454f31a",
   "metadata": {},
   "outputs": [
    {
     "data": {
      "text/plain": [
       "<Graph identifier=N538ce42db2314c69b53df7cefbb90373 (<class 'rdflib.graph.Graph'>)>"
      ]
     },
     "execution_count": 10,
     "metadata": {},
     "output_type": "execute_result"
    }
   ],
   "source": [
    "# iterate over each row in the dataframe and\n",
    "for index, row in barometer_groupby.iterrows():\n",
    "    # Create a URI for the CattleSample based on the index\n",
    "    CattleSample = onto[f\"CattleSample_{index}\"]\n",
    "    \n",
    "    # Add triples for each attribute in the row\n",
    "    g.add((CattleSample, onto.hasDiagnosticTest, Literal(row['DiagnosticTest'], datatype=XSD.string)))\n",
    "    g.add((CattleSample, onto.hasCountry, Literal(row['Country'], datatype=XSD.string)))\n",
    "    g.add((CattleSample, onto.hasBreed, Literal(row['Breed'], datatype=XSD.string)))\n",
    "    g.add((CattleSample, onto.hasDate, Literal(row['Floored_date'], datatype=XSD.string)))\n",
    "    g.add((CattleSample, onto.hasProvince, Literal(row['Province'], datatype=XSD.string)))\n",
    "    g.add((CattleSample, onto.hasFarmIdentification, Literal(row['FarmID'], datatype=XSD.string)))\n",
    "    g.add((CattleSample, onto.hasSampleType, Literal(row['SampleType'], datatype=XSD.string)))\n",
    "    g.add((CattleSample, onto.hasPathogen, Literal(row['Pathogen'], datatype=XSD.string)))\n",
    "    g.add((CattleSample, onto.hasResult, Literal(row['Result'], datatype=XSD.string)))\n",
    "    g.add((CattleSample, onto.hasLabreference, Literal(row['LabReference'], datatype=XSD.string)))\n",
    "    \n",
    "g.serialize(destination='output/RDFoutputCattleSampleLab5.ttl', format='turtle')\n",
    "\n",
    "\n"
   ]
  },
  {
   "cell_type": "markdown",
   "id": "3f90565a",
   "metadata": {},
   "source": [
    "### Step 4: Load the RDF data and ontology into a Panda DataFrame: "
   ]
  },
  {
   "cell_type": "code",
   "execution_count": 11,
   "id": "c14d29f2",
   "metadata": {},
   "outputs": [],
   "source": [
    "# Define the original path\n",
    "path_to_RDF = \"output/RDFoutputCattleSampleLab5.ttl\"\n",
    "\n",
    "# Try to parse the file and catch any errors\n",
    "try:\n",
    "    # Create a new graph\n",
    "    g = Graph()\n",
    "\n",
    "    # Parse the RDF file in Turtle format\n",
    "    g.parse(path_to_RDF, format='ttl')\n",
    "\n",
    "    # Parse the ontology file in OWL format and add it to the graph\n",
    "    path_to_ontology = \"Ontology/LivestockHealthOnto1.0.owl\"\n",
    "    g.parse(path_to_ontology, format=\"xml\")\n",
    "    \n",
    "except Exception as e:\n",
    "    # Print the error message\n",
    "    print(f\"An error occurred while parsing the RDF file: {e}\")"
   ]
  },
  {
   "cell_type": "code",
   "execution_count": 12,
   "id": "65e59ad7",
   "metadata": {},
   "outputs": [],
   "source": [
    "#Use RDFS or OWL reasoning to infer additional knowledge\n",
    "g.bind('rdfs', RDFS)\n",
    "g.bind('owl', OWL)\n",
    "g.bind('onto', Namespace(\"http://www.purl.org/decide/LivestockHealthOnto\"))"
   ]
  },
  {
   "cell_type": "markdown",
   "id": "e8b23acd",
   "metadata": {},
   "source": [
    "### Step 05: Query the data from updated ontology "
   ]
  },
  {
   "cell_type": "code",
   "execution_count": null,
   "id": "dc32f16e",
   "metadata": {},
   "outputs": [],
   "source": [
    "# Define the SPARQL query and Query the data from the updated ontology (Simple Query)\n",
    "query = \"\"\"\n",
    "PREFIX onto: <http://www.purl.org/decide/LivestockHealthOnto>\n",
    "SELECT ?FarmIdentification ?DiagnosticTest ?SampleType ?Date ?Breed ?LabReference ?Pathogen ?Country ?Province ?Result\n",
    "WHERE {\n",
    "  ?CattleSample onto:hasFarmIdentification ?FarmIdentification .\n",
    "  ?CattleSample onto:hasDiagnosticTest ?DiagnosticTest .\n",
    "  ?CattleSample onto:hasSampleType ?SampleType .\n",
    "   FILTER (?SampleType = \"Autopsy\")\n",
    "  ?CattleSample onto:hasDate ?Date .\n",
    "  ?CattleSample onto:hasBreed ?Breed .\n",
    "   FILTER (?Breed = \"Dairy\")\n",
    "  ?CattleSample onto:hasLabreference ?LabReference .\n",
    "  ?CattleSample onto:hasPathogen ?Pathogen .\n",
    "  FILTER (?Pathogen = \"PM\")\n",
    "  ?CattleSample onto:hasCountry ?Country .\n",
    "  ?CattleSample onto:hasProvince ?Province .\n",
    "  ?CattleSample onto:hasResult ?Result .\n",
    "  FILTER (?Result = \"1.0\")\n",
    "  }\n",
    "\"\"\"\n",
    "\n",
    "# execute the query and retrieve the results\n",
    "results = g.query(query)\n",
    "\n",
    "# convert the results to a Pandas dataframe\n",
    "data = []\n",
    "for row in results:\n",
    "    data.append(list(row))\n",
    "df = pd.DataFrame(data, columns=[\"FarmIdentification\",\"DiagnosticTest\",\"SampleType\", \"Date\", \"Breed\",\"LabReference\",\"Pathogen\", \"Country\",\"Province\",\"Result\"])\n",
    "\n",
    "# display the dataframe\n",
    "df.head(100)"
   ]
  },
  {
   "cell_type": "code",
   "execution_count": null,
   "id": "3ad460e9",
   "metadata": {},
   "outputs": [],
   "source": []
  }
 ],
 "metadata": {
  "kernelspec": {
   "display_name": "Python 3 (ipykernel)",
   "language": "python",
   "name": "python3"
  },
  "language_info": {
   "codemirror_mode": {
    "name": "ipython",
    "version": 3
   },
   "file_extension": ".py",
   "mimetype": "text/x-python",
   "name": "python",
   "nbconvert_exporter": "python",
   "pygments_lexer": "ipython3",
   "version": "3.9.13"
  }
 },
 "nbformat": 4,
 "nbformat_minor": 5
}
