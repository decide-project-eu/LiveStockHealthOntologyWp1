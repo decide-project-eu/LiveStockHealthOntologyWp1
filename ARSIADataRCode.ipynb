{
 "cells": [
  {
   "cell_type": "code",
   "execution_count": null,
   "id": "2d877ff8",
   "metadata": {},
   "outputs": [],
   "source": [
    "using<-function(...) {\n",
    "    libs<-unlist(list(...))\n",
    "    req<-unlist(lapply(libs,require,character.only=TRUE))\n",
    "    need<-libs[req==FALSE]\n",
    "    if(length(need)>0){ \n",
    "        install.packages(need)\n",
    "        lapply(need,require,character.only=TRUE)\n",
    "    }\n",
    "}"
   ]
  },
  {
   "cell_type": "code",
   "execution_count": null,
   "id": "e6722b70",
   "metadata": {},
   "outputs": [],
   "source": [
    "using(\"data.table\", \"tidyverse\", \"naniar\", \"stringr\", \"readr\",  \"dplyr\", \"magrittr\", \"readxl\", \"writexl\", \"sjmisc\", \"tidyr\", \"rdflib\"\n",
    "                  )"
   ]
  },
  {
   "cell_type": "code",
   "execution_count": null,
   "id": "a63ba843",
   "metadata": {},
   "outputs": [],
   "source": [
    "##Function to apply SHA-256 hashing\n",
    "\n",
    "sha256_hash <- function(data) {\n",
    "  openssl::sha256(data)\n",
    "}"
   ]
  },
  {
   "cell_type": "code",
   "execution_count": null,
   "id": "330f4783",
   "metadata": {},
   "outputs": [],
   "source": [
    "## Data loading\n",
    "barometer_dt_raw <- readxl::read_excel(\"Data/ARSIA/ARSIA_DECIDE_20221201.xlsx\")\n",
    "\n",
    "\n"
   ]
  },
  {
   "cell_type": "code",
   "execution_count": null,
   "id": "1ed683d7",
   "metadata": {},
   "outputs": [],
   "source": [
    "## Data manipulation\n",
    "\n",
    "barometer_dt <- barometer_dt_raw %>% \n",
    "  dplyr::rename(\n",
    "    Dossier = 'N° échantillon',\n",
    "    Date = 'Date of Sample',\n",
    "    Sample_type= 'Sample Type',\n",
    "    Diagnostic_test = METH,\n",
    "    Farm_ID = TRP,\n",
    "    PM = P_multocida,\n",
    "    MH = M_haemolytica,\n",
    "    HS = H_somnus,\n",
    "    MB = M_bovis,\n",
    "    BRSV = BRSV,\n",
    "    PI3 = PI3,\n",
    "    BCV = Coronavirus\n",
    "    ) %>% \n",
    "  tidyr::separate(ADDRESS, c('Postal_code', 'City')) %>%\n",
    "  dplyr::mutate(\n",
    "    Postal_code = as.double(Postal_code),\n",
    "    Filenumber = str_sub(Dossier, 1, 12),\n",
    "    Samplenumber = str_sub(Dossier, -3),\n",
    "    Country ='Belgium',\n",
    "    Lab_reference ='3', \n",
    "    Sample_type = case_when(\n",
    "      Sample_type == \"BAL\" ~ 'BAL', \n",
    "      Sample_type == \"SWAB\" ~'Swab',\n",
    "      Sample_type == \"CARCASS\" ~ 'Autopsy',\n",
    "      TRUE ~ 'Missing'\n",
    "    ),\n",
    "    Breed = case_when(\n",
    "      SPECUL == \"MEAT\" ~ 'Beef', \n",
    "      SPECUL == \"MILK\" ~'Dairy',\n",
    "      SPECUL == \"MXD\" ~ 'Mixed',\n",
    "      TRUE ~ 'Unknown'\n",
    "    ),\n",
    "    Province = case_when(\n",
    "        between(as.numeric(Postal_code), 1000, 1299) ~ 'Brussels',\n",
    "        between(as.numeric(Postal_code), 1300, 1499) ~ 'Walloon Brabant',\n",
    "        between(as.numeric(Postal_code), 1500, 1999) ~ 'Flemish Brabant',\n",
    "        between(as.numeric(Postal_code), 3000, 3499) ~ 'Antwerp',\n",
    "        between(as.numeric(Postal_code), 2000, 2999) ~ 'Limburg',\n",
    "        between(as.numeric(Postal_code), 3500, 3999) ~ 'Limburg',\n",
    "        between(as.numeric(Postal_code), 4000, 4999) ~ 'Liège',\n",
    "        between(as.numeric(Postal_code), 5000, 5999) ~ 'Namur',\n",
    "        between(as.numeric(Postal_code), 6000, 6599) ~ 'Hainaut',\n",
    "        between(as.numeric(Postal_code), 7000, 7999) ~ 'Hainaut',\n",
    "        between(as.numeric(Postal_code), 6600, 6999) ~ 'Luxembourg',\n",
    "        between(as.numeric(Postal_code), 8000, 8999) ~ 'West Flanders',\n",
    "        TRUE ~ 'East Flanders'\n",
    "    )\n",
    "  \n",
    "  )%>%\n",
    "  dplyr::select(\n",
    "    Filenumber,\n",
    "    Diagnostic_test,\n",
    "    Samplenumber,\n",
    "    Country,\n",
    "    Lab_reference,\n",
    "    Sample_type,\n",
    "    Breed,\n",
    "    PM,\n",
    "    MH,\n",
    "    HS,\n",
    "    MB,\n",
    "    BRSV,\n",
    "    PI3,\n",
    "    BCV,\n",
    "    Date,\n",
    "    Postal_code,\n",
    "    Province,\n",
    "    Farm_ID\n",
    "  ) %>%\n",
    "  dplyr::distinct() %>%\n",
    "  dplyr::mutate(\n",
    "    Filenumber = sha256_hash(as.character(Filenumber)),\n",
    "    Samplenumber = sha256_hash(as.character(Samplenumber)),\n",
    "    Farm_ID = sha256_hash(as.character(Samplenumber))\n",
    "  ) "
   ]
  },
  {
   "cell_type": "code",
   "execution_count": null,
   "id": "075c4655",
   "metadata": {},
   "outputs": [],
   "source": [
    "## Floor date to 1st of month\n",
    "\n",
    "barometer_dt$Floored_date <- lubridate::floor_date(barometer_dt$Date, \"month\")"
   ]
  },
  {
   "cell_type": "code",
   "execution_count": null,
   "id": "82b980b3",
   "metadata": {},
   "outputs": [],
   "source": [
    "## Aggregate data based on farm_ID and month (WIDE)\n",
    "\n",
    "\n",
    "barometer_groupby <- barometer_dt %>%\n",
    "  group_by(Lab_reference, Country, Breed, Floored_date, Province, Farm_ID, Diagnostic_test, Sample_type) %>%\n",
    "  summarise(across(c(PM, MH, HS, MB, BRSV, PI3, BCV), max))"
   ]
  },
  {
   "cell_type": "code",
   "execution_count": null,
   "id": "82375f7d",
   "metadata": {},
   "outputs": [],
   "source": [
    "## Convert to LONG\n",
    "\n",
    "barometer_long <- barometer_groupby %>%\n",
    "  tidyr::pivot_longer(\n",
    "    cols = c('PM', 'MH', 'HS', 'MB', 'BRSV', 'PI3', 'BCV'),\n",
    "    names_to = 'Pathogen',\n",
    "    values_to = 'Result',\n",
    "  )\n",
    "      "
   ]
  },
  {
   "cell_type": "code",
   "execution_count": null,
   "id": "88824f2c",
   "metadata": {},
   "outputs": [],
   "source": [
    "library(magrittr)\n",
    "library(rdflib)\n",
    "library(XML)"
   ]
  },
  {
   "cell_type": "code",
   "execution_count": null,
   "id": "ac6d431c",
   "metadata": {},
   "outputs": [],
   "source": [
    "barometer_long"
   ]
  },
  {
   "cell_type": "code",
   "execution_count": null,
   "id": "da3dd780",
   "metadata": {},
   "outputs": [],
   "source": [
    "# create an RDF object\n",
    "Literal <- function(value, datatype=\"xsd:string\") {\n",
    "  rdf_literal(value, datatype=datatype)\n",
    "}\n",
    "rdf <- rdf()\n",
    " \n",
    "# create a namespace prefix for the ontology\n",
    "onto <- \"http://www.purl.org/decide/LivestockHealthOnto\"\n",
    " \n",
    "# iterate through each row in the barometer DataFrame\n",
    "for (i in 1:nrow(barometer_long)) {\n",
    "  row <- barometer_long[i,] \n",
    "# create a URI for the CattleSample individual based on the row ID\n",
    "CattleSample <- paste0(onto, \"CattleSample\", i)\n",
    "\n",
    "# add triples to the RDF graph\n",
    "\n",
    "\n",
    "  #rdf_add(rdf, CattleSample, paste0(prefix, \"hasBreed\"), as.character(row[3]), datatype=\"xsd:string\")\n",
    "  rdf_add(rdf, CattleSample, paste0(onto, \"hasLabReference\"), ifelse(is.na(row$Lab_reference), \"\", as.character(row$Lab_reference)))\n",
    "  rdf_add(rdf, CattleSample, paste0(onto, \"hasCountry\"), ifelse(is.na(row$Country), \"\", as.character(row$Country)))\n",
    "  rdf_add(rdf, CattleSample, paste0(onto, \"hasBreed\"), ifelse(is.na(row$Breed), \"\", as.character(row$Breed)), datatype=\"xsd:string\")\n",
    "  rdf_add(rdf, CattleSample, paste0(onto, \"hasDate\"), ifelse(is.na(row$Floored_date), \"\", as.character(row$Floored_date)), datatype=\"xsd:string\")\n",
    "  rdf_add(rdf, CattleSample, paste0(onto, \"hasProvince\"), ifelse(is.na(row$Province), \"\", as.character(row$Province)), datatype=\"xsd:string\")\n",
    "  rdf_add(rdf, CattleSample, paste0(onto, \"hasFarmIdentification\"), ifelse(is.na(row$Farm_ID), \"\", as.character(row$Farm_ID)), datatype=\"xsd:string\")\n",
    "  rdf_add(rdf, CattleSample, paste0(onto, \"hasDiagnosticTest\"), ifelse(is.na(row$Diagnostic_test), \"\", as.character(row$Diagnostic_test)), datatype=\"xsd:string\")\n",
    "  rdf_add(rdf, CattleSample, paste0(onto, \"hasSampleType\"), ifelse(is.na(row$Sample_type), \"\", as.character(row$Sample_type)), datatype=\"xsd:string\")\n",
    "  rdf_add(rdf, CattleSample, paste0(onto, \"hasPathogen\"), ifelse(is.na(row$Pathogen), \"\", as.character(row$Pathogen)), datatype=\"xsd:string\")\n",
    "  rdf_add(rdf, CattleSample, paste0(onto, \"hasResult\"), ifelse(is.na(row$Result), \"Missing\", as.character(row$Result)), datatype=\"xsd:string\")\n",
    "\n",
    "}\n",
    " \n",
    "# print the RDF graph (for testing)\n",
    "cat(rdf_serialize(rdf, format=\"turtle\"))\n",
    " \n",
    "# output the RDF graph to a file\n",
    "## Save file to RDF (Long Version) instead of CSV\n",
    "rdf_serialize(rdf, \"output/RDFoutputCattleSampleArsia.ttl\", format=\"turtle\")"
   ]
  },
  {
   "cell_type": "code",
   "execution_count": null,
   "id": "e5940c4b",
   "metadata": {},
   "outputs": [],
   "source": []
  }
 ],
 "metadata": {
  "kernelspec": {
   "display_name": "R",
   "language": "R",
   "name": "ir"
  },
  "language_info": {
   "codemirror_mode": "r",
   "file_extension": ".r",
   "mimetype": "text/x-r-source",
   "name": "R",
   "pygments_lexer": "r",
   "version": "4.1.3"
  }
 },
 "nbformat": 4,
 "nbformat_minor": 5
}
