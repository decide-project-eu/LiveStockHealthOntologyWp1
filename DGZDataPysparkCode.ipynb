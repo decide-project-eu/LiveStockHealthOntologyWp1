{
 "cells": [
  {
   "cell_type": "markdown",
   "id": "56906ea1",
   "metadata": {},
   "source": [
    "##Install and Import the necessary classes from the RDFlib library:"
   ]
  },
  {
   "cell_type": "code",
   "execution_count": null,
   "id": "4d618ab3",
   "metadata": {},
   "outputs": [],
   "source": [
    "! pip install rdflib\n",
    "! pip install owlrl\n",
    "from rdflib import Graph, Literal, Namespace, RDF, URIRef\n",
    "from rdflib.namespace import FOAF, XSD\n",
    "from rdflib import Graph, Namespace, RDF, RDFS, OWL\n",
    "from rdflib.plugins.sparql import prepareQuery\n",
    "import pandas as pd\n",
    "import rdflib\n",
    "import pyspark \n",
    "import os\n",
    "import numpy as np\n",
    "from pyspark.sql.functions import col,lit\n",
    "from pyspark.context import SparkContext\n",
    "from pyspark.sql.session import SparkSession\n",
    "from pyspark.sql import SparkSession\n",
    "from pyspark.sql.functions import col, when, isnan\n"
   ]
  },
  {
   "cell_type": "markdown",
   "id": "59666440",
   "metadata": {},
   "source": [
    "### Step1: Create a SparkSession and read the Excel file into a PySpark DataFrame:"
   ]
  },
  {
   "cell_type": "code",
   "execution_count": null,
   "id": "fc17fac2",
   "metadata": {},
   "outputs": [],
   "source": [
    "spark = SparkSession.builder.appName('DataCleaning').getOrCreate()"
   ]
  },
  {
   "cell_type": "code",
   "execution_count": null,
   "id": "b02353ea",
   "metadata": {},
   "outputs": [],
   "source": [
    "# Define the file paths\n",
    "files = ['DGZ/DECIDE_MTA_UGENT_14nov2022.xlsx', \n",
    "         'DGZ/DECIDE_MTA_UGENT_BAC_AERO_14nov2022.xlsx', \n",
    "         'DGZ/DECIDE_MTA_UGENTBAC_MYCO_14nov2022.xlsx']\n",
    "\n",
    "# Load the data into Spark dataframes\n",
    "dfs = []\n",
    "for file in files:\n",
    "    df = spark.read.format('com.crealytics.spark.excel') \\\n",
    "                .option('header', 'true') \\\n",
    "                .option('inferSchema', 'true') \\\n",
    "                .load(file)\n",
    "    dfs.append(df)\n",
    "\n",
    "barometer_dt_raw = dfs[0]\n",
    "barometer_aero_cult_raw = dfs[1]\n",
    "barometer_myco_cult_raw = dfs[2]\n",
    "#barometer_aero_cult_raw .show()\n"
   ]
  },
  {
   "cell_type": "markdown",
   "id": "4ab91821",
   "metadata": {},
   "source": [
    "#### Step 2: Create an RDF graph and namespaces:"
   ]
  },
  {
   "cell_type": "code",
   "execution_count": null,
   "id": "c831c5da",
   "metadata": {},
   "outputs": [],
   "source": [
    "g = rdflib.Graph()\n",
    "onto = Namespace(\"http://example.com/animal_health#\")\n",
    "g.bind('onto', onto)\n",
    "xsd = Namespace('http://www.w3.org/2001/XMLSchema#')\n",
    "g.bind('xsd', xsd)"
   ]
  },
  {
   "cell_type": "markdown",
   "id": "e18fde6d",
   "metadata": {},
   "source": [
    "### Step 03: Iterate over the PySpark DataFrame and map to ontology properties:"
   ]
  },
  {
   "cell_type": "code",
   "execution_count": null,
   "id": "97d1370f",
   "metadata": {},
   "outputs": [],
   "source": [
    "# Data manipulation AEROBIC CULTURE results\n",
    "barometer_aero_cult = barometer_aero_cult_raw \\\n",
    "    .withColumnRenamed(\"Dossiernummer\", \"Filenumber\") \\\n",
    "    .withColumnRenamed(\"KIEMSTAAL IDENTIFICATIE\", \"Pathogen_identification\") \\\n",
    "    .withColumnRenamed(\"KIEMSTAAL RESULTAAT\", \"Pathogen_result\") \\\n",
    "    .withColumnRenamed(\"Staalnummer\", \"Samplenumber\") \\\n",
    "    .withColumn(\"Parameter_code\", lit(\"BAC_AERO\")) \\\n",
    "    .withColumn(\"Result\", lit(\"OK\")) \\\n",
    "    .select(\"Filenumber\", \"Pathogen_identification\", \"Pathogen_result\", \"Parameter_code\", \"Samplenumber\", \"Result\") \\\n",
    "    .filter(col(\"Pathogen_identification\").isin(\"Pasteurella multocida\", \"Mannheimia haemolytica\", \"Histophilus somni\", \"Mycoplasma bovis\")) \\\n",
    "    .distinct()\n",
    "\n",
    "\n",
    "df_samples = spark.createDataFrame([\n",
    "  (\"OK\", \"BAC_AERO\", \"Culture\", \"Pasteurella multocida\"),\n",
    "  (\"OK\", \"BAC_AERO\", \"Culture\", \"Mannheimia haemolytica\"),\n",
    "  (\"OK\", \"BAC_AERO\", \"Culture\", \"Histophilus somni\"),\n",
    "  (\"OK\", \"BAC_MYCOPLASMA\", \"Culture\", \"Mycoplasma bovis\")\n",
    "], [\"Result\", \"Parameter_code\", \"Diagnostic_test\", \"Pathogen_identification\"])\n",
    " \n",
    "#barometer_aero_cult.show()\n"
   ]
  },
  {
   "cell_type": "markdown",
   "id": "3b9e6534",
   "metadata": {},
   "source": [
    "### Data manipulation MYCOPLASMA CULTURE results"
   ]
  },
  {
   "cell_type": "code",
   "execution_count": null,
   "id": "cb9dd463",
   "metadata": {},
   "outputs": [],
   "source": [
    "# Data manipulation MYCOPLASMA CULTURE results\n",
    "barometer_myco_cult = barometer_myco_cult_raw \\\n",
    "    .withColumnRenamed(\"Dossiernummer\", \"Filenumber\") \\\n",
    "    .withColumnRenamed(\"KIEMSTAAL IDENTIFICATIE\", \"Pathogen_identification\") \\\n",
    "    .withColumnRenamed(\"KIEMSTAAL RESULTAAT\", \"Mycoplasma_result\") \\\n",
    "    .withColumnRenamed(\"Staalnummer\", \"Samplenumber\") \\\n",
    "    .withColumn(\"Parameter_code\", lit(\"BAC_MYCOPLASMA\")) \\\n",
    "    .withColumn(\"Result\", lit(\"OK\")) \\\n",
    "    .select(\"Filenumber\", \"Pathogen_identification\", \"Mycoplasma_result\", \"Parameter_code\", \"Samplenumber\", \"Result\") \\\n",
    "    .filter(col(\"Pathogen_identification\").isin(\"Mycoplasma bovis\")) \\\n",
    "    .distinct()\n",
    "\n",
    "#barometer_myco_cult.show()\n"
   ]
  },
  {
   "cell_type": "markdown",
   "id": "d63ddade",
   "metadata": {},
   "source": [
    "### Data manipulation PCR results"
   ]
  },
  {
   "cell_type": "code",
   "execution_count": null,
   "id": "371358e4",
   "metadata": {},
   "outputs": [],
   "source": [
    "# Data manipulation PCR results\n",
    "barometer_dtt = barometer_dt_raw \\\n",
    "    .withColumnRenamed(\"Dossiernummer\", \"Filenumber\")\\\n",
    "    .withColumnRenamed(\"Staalnummer\", \"Samplenumber\")\\\n",
    "    .withColumnRenamed(\"Staaltype\", \"Sample_type\") \\\n",
    "    .withColumnRenamed(\"PARAMETER_CODE\", \"Parameter_code\")\\\n",
    "    .withColumnRenamed(\"Onderzoek\", \"Pathogen\")\\\n",
    "    .withColumnRenamed(\"Resultaat\", \"Result\")\\\n",
    "    .withColumnRenamed(\"Creatiedatum\", \"Date\")\\\n",
    "    .withColumnRenamed(\"Postcode\", \"Postal_code\")\\\n",
    "    .withColumnRenamed(\"ANON_ID\", \"Farm_ID\")\\\n",
    "    .withColumn(\"Country\", when(col(\"Parameter_code\").isin(\"BAC_AERO\", \"BAC_MYCOPLASMA\"), \"Belgium\")) \\\n",
    "    .withColumn(\"Diagnostic_test\", when(col(\"Parameter_code\").isin(\"BAC_AERO\", \"BAC_MYCOPLASMA\"), \"Culture\").otherwise(\"PCR\")) \\\n",
    "    .withColumn(\"Lab_reference\", lit(\"1\"))\\\n",
    "    .withColumn(\"Sample_type\", when(col(\"Sample_type\") == \"RU Broncho-alveolar lavage (BAL)\", \"BAL\")\n",
    "        .when(col(\"Sample_type\") == \"RU Anderen\", \"Unknown\")\n",
    "        .when(col(\"Sample_type\").isin(\"RU Swabs\", \"RU Swab\", \"RU Neusswab\", \"RU Neusswabs\"), \"Swab\")\n",
    "        .when(col(\"Sample_type\").isin(\"RU Kadaver\", \"RU Organen\"), \"Autopsy\")\n",
    "        .otherwise(\"Missing\")) \\\n",
    "    .withColumn(\"Breed\", when(col(\"Bedrijfstype\") == \"VCALF\", \"Veal\")\n",
    "        .when(col(\"MEAT\").isNull(), \"Unknown\")\n",
    "        .when((col(\"MEAT\") / col(\"TOTAL\")) > 0.9, \"Beef\")\n",
    "        .when((col(\"MILK\") / col(\"TOTAL\")) > 0.9, \"Dairy\")\n",
    "        .otherwise(\"Mixed\")) \\\n",
    "    .withColumn(\"Pathogen\",\n",
    "        when(col(\"Pathogen\").isin(\n",
    "            \"AD Pasteurella multocida Ag (PCR)\",\n",
    "            \"AD Pasteurella multocida Ag pool (PCR)\",\n",
    "            \"AD P. multocida Ag (PCR)\"\n",
    "            \"AD P. multocida Ag pool (PCR)\"),\"Pasteurella multocida\")\n",
    "               .when(col(\"Pathogen\").isin(\n",
    "                        \"AD Mannheimia haemolytica Ag (PCR)\",\n",
    "                        \"AD Mannheimia haemolytica Ag pool (PCR)\"), \"Mannheimia haemolytica\")\n",
    "               .when(col(\"Pathogen\").isin(\n",
    "                        \"RU PI3 Ag (PCR)\",\n",
    "                        \"RU PI3 Ag pool (PCR)\"), \"PI3\")\n",
    "               .when(col(\"Pathogen\").isin(\n",
    "                        \"RU BRSV Ag (PCR)\",\n",
    "                        \"RU BRSV Ag pool (PCR)\"), \"BRSV\")\n",
    "               .when(col(\"Pathogen\").isin(\n",
    "                        \"AD Histophilus somnus (PCR)\",\n",
    "                        \"AD Histophilus somnus Ag (PCR)\",\n",
    "                        \"AD Histophilus somnus Ag pool (PCR)\",\n",
    "                        \"AD Histophilus somni Ag (PCR)\",\n",
    "                    \"AD Histophilus somni Ag pool (PCR)\"), \"Histophilus somni\")\n",
    "           .when(col(\"Pathogen\").isin(\n",
    "                    \"RU Mycoplasma bovis (PCR)\",\n",
    "                    \"RU Mycoplasma bovis Ag pool (PCR)\",\n",
    "                    \"RU Mycoplasma bovis Ag (PCR)\"), \"Mycoplasma bovis\")\n",
    "           .when(col(\"Pathogen\").isin(\n",
    "                    \"AD Corona Ag (PCR)\", \"AD Corona Ag pool (PCR)\"), \"BCV\")) \\\n",
    ".withColumn(\"Province\", \n",
    "                   when(col(\"Postal_code\").between(1000, 1299), \"Brussels\") \\\n",
    "                   .when(col(\"Postal_code\").between(1300, 1499), \"Walloon Brabant\") \\\n",
    "                   .when(col(\"Postal_code\").between(1500, 1999), \"Flemish Brabant\") \\\n",
    "                   .when(col(\"Postal_code\").between(3000, 3499), \"Antwerp\") \\\n",
    "                   .when(col(\"Postal_code\").between(2000, 2999), \"Limburg\") \\\n",
    "                   .when(col(\"Postal_code\").between(5000, 5999), \"Namur\") \\\n",
    "                   .when(col(\"Postal_code\").between(6000, 6599), \"Hainaut\") \\\n",
    "                   .when(col(\"Postal_code\").between(7000, 7999), \"Hainaut\") \\\n",
    "                   .when(col(\"Postal_code\").between(6600, 6999), \"Luxembourg\") \\\n",
    "                   .when(col(\"Postal_code\").between( 8000, 8999), \"West Flanders\") \\\n",
    "                   .otherwise(\"East Flanders\"))\n",
    "            \n",
    "barometer_dtt= barometer_dtt.select(\"Filenumber\", \"Diagnostic_test\", \"Samplenumber\", \"Country\", \"Lab_reference\", \"Sample_type\", \"Breed\", \"Parameter_code\", \"Result\", \"Pathogen\", \"Date\", \"Postal_code\", \"Province\", \"Farm_ID\") \\\n",
    "    .distinct() \n",
    "\n",
    "#barometer_dtt.show()"
   ]
  },
  {
   "cell_type": "markdown",
   "id": "772271c3",
   "metadata": {},
   "source": [
    "### All three joins and clean file"
   ]
  },
  {
   "cell_type": "code",
   "execution_count": null,
   "id": "fbcf70b4",
   "metadata": {},
   "outputs": [],
   "source": [
    "\n",
    "\n",
    "barometer = barometer_dtt.join(df_samples, ['Diagnostic_test', 'Result', 'Parameter_code'], 'left') \\\n",
    "                       .join(barometer_aero_cult, ['Filenumber', 'Samplenumber', 'Result', 'Parameter_code', 'Pathogen_identification'], 'left') \\\n",
    "                       .join(barometer_myco_cult, ['Filenumber', 'Samplenumber', 'Result', 'Parameter_code', 'Pathogen_identification'], 'left') \\\n",
    "                       .withColumn('Pathogen', when(col('Pathogen') == 'Pasteurella multocida', 'PM') \\\n",
    "                                             .when(col('Pathogen') == 'Histophilus somni', 'HS') \\\n",
    "                                             .when(col('Pathogen') == 'Mannheimia haemolytica', 'MH') \\\n",
    "                                             .when(col('Pathogen') == 'Mycoplasma bovis', 'MB') \\\n",
    "                                             .otherwise(col('Pathogen'))) \\\n",
    "                       .withColumn('Pathogen', when(col('Pathogen_identification') == 'Pasteurella multocida', 'PM') \\\n",
    "                                             .when(col('Pathogen_identification') == 'Histophilus somni', 'HS') \\\n",
    "                                             .when(col('Pathogen_identification') == 'Mannheimia haemolytica', 'MH') \\\n",
    "                                             .when(col('Pathogen_identification') == 'Mycoplasma bovis', 'MB') \\\n",
    "                                             .otherwise(col('Pathogen'))) \\\n",
    "                       .withColumn('Result', when(col('Result').isin([\"Twijfelachtig (PCR)\", \"POSITIEF\", \"GEDETECTEERD\", \"GEDETECTEERD (sterk)\", \"GEDETECTEERD (zwak)\", \"GEDETECTEERD (matig)\", \"GEDETECTEERD (zeer sterk)\", \"GEDETECTEERD (zeer zwak)\"]), 1) \\\n",
    "                                             .when(col('Result').isin([\"negatief\", \"Niet gedetecteerd\"]), 0) \\\n",
    "                                             .when(col('Result').isin([\"NI\", \"niet interpreteerbaar\", \"Inhibitie\"]), None) \\\n",
    "                                             .when((col('Parameter_code') == 'BAC_AERO') & (col('Pathogen_result').isNull()), 0) \\\n",
    "                                             .when((col('Parameter_code') == 'BAC_AERO') & (col('Pathogen_result').isNotNull()), 1) \\\n",
    "                                             .when((col('Parameter_code') == 'BAC_MYCOPLASMA') & (col('Mycoplasma_result').isNull()), None) \\\n",
    "                                             .when((col('Parameter_code') == 'BAC_MYCOPLASMA') & (col('Mycoplasma_result') == 'neg'), 0) \\\n",
    "                                             .when((col('Parameter_code') == 'BAC_MYCOPLASMA') & (col('Mycoplasma_result').rlike('POS')), 1) \\\n",
    "                                             .otherwise(None))\n"
   ]
  },
  {
   "cell_type": "code",
   "execution_count": null,
   "id": "a5a5dd2a",
   "metadata": {},
   "outputs": [],
   "source": []
  },
  {
   "cell_type": "code",
   "execution_count": null,
   "id": "2daad903",
   "metadata": {},
   "outputs": [],
   "source": []
  },
  {
   "cell_type": "markdown",
   "id": "dc30a47d",
   "metadata": {},
   "source": [
    "###Step 03: Iterate over the PySpark DataFrame and map to ontology properties:"
   ]
  },
  {
   "cell_type": "code",
   "execution_count": null,
   "id": "eebb05a0",
   "metadata": {},
   "outputs": [],
   "source": [
    "\n",
    "for row in barometer.collect():\n",
    "    CattleSample = onto[f'CattleSample{row[0]}']\n",
    "    g.add((CattleSample, RDF.type, onto.CattleSample))\n",
    "    g.add((CattleSample, onto.hasFileNumber, Literal(row[0], datatype=XSD.string)))\n",
    "    g.add((CattleSample, onto.hasSampleNumber, Literal(row[1], datatype=XSD.string)))\n",
    "    g.add((CattleSample, onto.hasResult, Literal(row[2], datatype=XSD.string)))\n",
    "    g.add((CattleSample, onto.hasParametercode, Literal(row[3], datatype=XSD.string)))\n",
    "    g.add((CattleSample, onto.hasPathogenIdentification, Literal(row[4], datatype=XSD.string)))\n",
    "    g.add((CattleSample, onto.hasDiagnosticTest, Literal(row[5], datatype=XSD.string)))\n",
    "    g.add((CattleSample, onto.hasCountry, Literal(row[6], datatype=XSD.string)))\n",
    "    g.add((CattleSample, onto.hasLabRefference, Literal(row[7], datatype=XSD.string)))\n",
    "    g.add((CattleSample, onto.hasSampleType, Literal(row[8], datatype=XSD.string)))\n",
    "    g.add((CattleSample, onto.hasBreed, Literal(row[9], datatype=XSD.string)))\n",
    "    g.add((CattleSample, onto.hasPathogen, Literal(row[10], datatype=XSD.string)))\n",
    "    g.add((CattleSample, onto.hasDate, Literal(row[11], datatype=XSD.string)))\n",
    "    g.add((CattleSample, onto.hasPostalCode, Literal(row[12], datatype=XSD.string)))\n",
    "    g.add((CattleSample, onto.hasProvince, Literal(row[13], datatype=XSD.string)))\n",
    "    g.add((CattleSample, onto.hasFarmIdentification, Literal(row[14], datatype=XSD.string)))\n",
    "    g.add((CattleSample, onto.hasPathogenResult, Literal(row[15], datatype=XSD.string)))\n",
    "    g.add((CattleSample, onto.hasMicoplasmaResult, Literal(row[16], datatype=XSD.string)))\n",
    " # print RDF graph (for testing)\n",
    "    \n",
    "print(g.serialize(format='turtle'))\n",
    "\n",
    "# output RDF graph to file (replace with your desired filename)\n",
    "g.serialize('output/RDFoutputCattleSample.ttl', format='turtle')\n"
   ]
  },
  {
   "cell_type": "code",
   "execution_count": null,
   "id": "d7b0f63c",
   "metadata": {},
   "outputs": [],
   "source": [
    "g = Graph()\n",
    "\n",
    "# Define the original Path\n",
    "path_to_RDF = \"output/RDFoutputCattleSample.ttl\"\n",
    "g.parse(path_to_RDF, format='ttl')\n",
    "\n",
    "# Secondly Load ontology into the same graph\n",
    "path_to_ontology = \"Ontology/LivestockHealthOnto1.0.owl\"\n",
    "g.parse(path_to_ontology, format=\"xml\")\n"
   ]
  },
  {
   "cell_type": "code",
   "execution_count": null,
   "id": "a101c383",
   "metadata": {},
   "outputs": [],
   "source": [
    "#Use RDFS or OWL reasoning to infer additional knowledge\n",
    "g.bind('rdfs', RDFS)\n",
    "g.bind('owl', OWL)\n",
    "g.bind('onto', Namespace(\"http://example.com/animal_health#\"))"
   ]
  },
  {
   "cell_type": "code",
   "execution_count": null,
   "id": "ee1ac19f",
   "metadata": {},
   "outputs": [],
   "source": [
    "from pyspark.sql import SparkSession\n",
    "import pandas as pd\n",
    "\n",
    "# create SparkSession object\n",
    "spark = SparkSession.builder.appName(\"Query Data\").getOrCreate()\n",
    "\n",
    "# load data from RDF file into DataFrame\n",
    "data = spark.read.format(\"com.databricks.spark.rdf\").option(\"inferSchema\", \"true\").option(\"header\", \"false\").option(\"delimiter\", \"\\t\").option(\"rdf.format\", \"n-triples\").load(\"path/to/rdf/file\")\n",
    "\n",
    "# create temporary view of data\n",
    "data.createOrReplaceTempView(\"data_view\")\n",
    "\n",
    "\n",
    "query = \"\"\"\n",
    "PREFIX onto: <http://example.com/animal_health#>\n",
    "SELECT ?FileNumber, ?DiagnosticTest, ?SampleNumber, ?Breed, ?LabReference, ?SampleType, ?Result, ?Pathogen, ?PostalCode, ?Province, ?PathogenIdentification, ?PathogenResult, ?MycoplasmaResult\n",
    "WHERE {\n",
    "  ?CattleSample onto:hasFileNumber ?FileNumber . \n",
    "  ?CattleSample onto:hasDiagnosticTest ?DiagnosticTest .\n",
    "  ?CattleSample onto:hasSampleNumber ?SampleNumber .\n",
    "  ?CattleSample onto:hasBreed ?Breed .\n",
    "  ?CattleSample onto:hasLabReference ?LabReference .\n",
    "  ?CattleSample onto:hasSampleType ?SampleType .\n",
    "  ?CattleSample onto:hasResult ?Result .\n",
    "  ?CattleSample onto:hasPathogen ?Pathogen .\n",
    "  ?CattleSample onto:hasPostalCode ?PostalCode .\n",
    "  ?CattleSample onto:hasProvince ?Province .\n",
    "  ?CattleSample onto:hasPathogenIdentification ?PathogenIdentification .\n",
    "  ?CattleSample onto:hasPathogenResult ?PathogenResult .\n",
    "  FILTER (?PathogenResult = \"POS++\")\n",
    "  ?CattleSample onto:hasMicoplasmaResult ?MycoplasmaResult .\n",
    "  FILTER (?MycoplasmaResult = \"POS++\")\n",
    "\n",
    "\"\"\"\n",
    "# execute the query and retrieve the results\n",
    "results = spark.sql(query)\n",
    "df = results.toPandas()\n",
    "df.head()"
   ]
  },
  {
   "cell_type": "code",
   "execution_count": null,
   "id": "e231e2bc",
   "metadata": {},
   "outputs": [],
   "source": []
  },
  {
   "cell_type": "code",
   "execution_count": null,
   "id": "efa99e43",
   "metadata": {},
   "outputs": [],
   "source": []
  }
 ],
 "metadata": {
  "kernelspec": {
   "display_name": "Python 3 (ipykernel)",
   "language": "python",
   "name": "python3"
  },
  "language_info": {
   "codemirror_mode": {
    "name": "ipython",
    "version": 3
   },
   "file_extension": ".py",
   "mimetype": "text/x-python",
   "name": "python",
   "nbconvert_exporter": "python",
   "pygments_lexer": "ipython3",
   "version": "3.9.13"
  }
 },
 "nbformat": 4,
 "nbformat_minor": 5
}
