{
 "cells": [
  {
   "cell_type": "code",
   "execution_count": null,
   "id": "7d32abff",
   "metadata": {},
   "outputs": [],
   "source": [
    "! pip install pandas\n",
    "! pip install openpyxl\n",
    "\n",
    "import pandas as pd\n",
    "import rdflib\n",
    "import hashlib\n",
    "import numpy as np\n",
    "from datetime import datetime\n",
    "from datetime import timedelta\n",
    "from pandas.api.types import CategoricalDtype\n",
    "from rdflib import Literal, Namespace, RDF, URIRef\n",
    "from rdflib.namespace import FOAF, XSD\n",
    "from rdflib import Graph, Namespace, RDF, RDFS, OWL\n",
    "from rdflib.plugins.sparql import prepareQuery\n",
    "from pyspark.sql.functions import when, col, lit"
   ]
  },
  {
   "cell_type": "markdown",
   "id": "76f5d238",
   "metadata": {},
   "source": [
    "### Step01: Define The file paths and load Data into Pandas dataframes and Clean\n"
   ]
  },
  {
   "cell_type": "code",
   "execution_count": null,
   "id": "f17dfdf5",
   "metadata": {},
   "outputs": [],
   "source": [
    "# Define the file paths\n",
    "files = ['Data/ARSIA/ARSIA_DECIDE_20221201.xlsx']\n",
    "\n",
    "# Load the data into Pandas dataframes\n",
    "dfs = []\n",
    "for file in files:\n",
    "    df = pd.read_excel(file, engine='openpyxl')\n",
    "    dfs.append(df)\n",
    "\n",
    "barometer_dt_raw = dfs[0]\n"
   ]
  },
  {
   "cell_type": "code",
   "execution_count": null,
   "id": "b4f917fa",
   "metadata": {},
   "outputs": [],
   "source": [
    "# Rename columns\n",
    "barometer_dt_raw.rename(columns={\n",
    "    'N° échantillon': 'Dossier',\n",
    "    'Date of Sample': 'Date',\n",
    "    'Sample Type': 'SampleType',\n",
    "    'METH': 'DiagnosticTest',\n",
    "    'TRP': 'FarmID',\n",
    "    'P_multocida': 'PM',\n",
    "    'M_haemolytica': 'MH',\n",
    "    'H_somnus': 'HS',\n",
    "    'M_bovis': 'MB',\n",
    "    'BRSV': 'BRSV',\n",
    "    'PI3': 'PI3',\n",
    "    'Coronavirus': 'BCV'\n",
    "}, inplace=True)\n",
    "\n",
    "# Separate ADDRESS column into Postal_code and City\n",
    "barometer_dt_raw[['Postal_code', 'City']] = barometer_dt_raw['ADDRESS'].str.split(n=1, expand=True)\n",
    "\n",
    "# Convert Postal_code to numeric\n",
    "barometer_dt_raw['Postal_code'] = pd.to_numeric(barometer_dt_raw['Postal_code'], errors='coerce')\n",
    "\n",
    "# Create new columns\n",
    "barometer_dt_raw['FileNumber'] = barometer_dt_raw['Dossier'].str.slice(stop=12)\n",
    "barometer_dt_raw['SampleNumber'] = barometer_dt_raw['Dossier'].str.slice(start=-3)\n",
    "barometer_dt_raw['Country'] = 'Belgium'\n",
    "barometer_dt_raw['LabReference'] = '3'\n",
    "\n",
    "# Map Sample_type\n",
    "sample_type_mapping = {\n",
    "    'BAL': 'BAL',\n",
    "    'SWAB': 'Swab',\n",
    "    'CARCASS': 'Autopsy'\n",
    "}\n",
    "barometer_dt_raw['SampleType'] = barometer_dt_raw['SampleType'].map(sample_type_mapping)\n",
    "\n",
    "# Map Breed\n",
    "breed_mapping = {\n",
    "    'MEAT': 'Beef',\n",
    "    'MILK': 'Dairy',\n",
    "    'MXD': 'Mixed'\n",
    "}\n",
    "barometer_dt_raw['Breed'] = barometer_dt_raw['SPECUL'].map(breed_mapping).fillna('Unknown')\n",
    "\n",
    "# Map Province based on Postal_code\n",
    "postal_code_conditions = [\n",
    "    (barometer_dt_raw['Postal_code'].between(1000, 1299)),\n",
    "    (barometer_dt_raw['Postal_code'].between(1300, 1499)),\n",
    "    (barometer_dt_raw['Postal_code'].between(1500, 1999)),\n",
    "    (barometer_dt_raw['Postal_code'].between(3000, 3499)),\n",
    "    (barometer_dt_raw['Postal_code'].between(2000, 2999)),\n",
    "    (barometer_dt_raw['Postal_code'].between(3500, 3999)),\n",
    "    (barometer_dt_raw['Postal_code'].between(4000, 4999)),\n",
    "    (barometer_dt_raw['Postal_code'].between(5000, 5999)),\n",
    "    (barometer_dt_raw['Postal_code'].between(6000, 6599)),\n",
    "    (barometer_dt_raw['Postal_code'].between(7000, 7999)),\n",
    "    (barometer_dt_raw['Postal_code'].between(6600, 6999)),\n",
    "    (barometer_dt_raw['Postal_code'].between(8000, 8999))\n",
    "]\n",
    "province_choices = [\n",
    "    'Brussels', 'Walloon Brabant', 'Flemish Brabant', 'Antwerp', 'Limburg', 'Limburg',\n",
    "    'Liège', 'Namur', 'Hainaut', 'Hainaut', 'Luxembourg', 'West Flanders'\n",
    "]\n",
    "barometer_dt_raw['Province'] = pd.Series(pd.Categorical(np.select(postal_code_conditions, province_choices, default='East Flanders')))\n",
    "\n",
    "# Select columns\n",
    "barometer_dt = barometer_dt_raw[['FileNumber', 'DiagnosticTest', 'SampleNumber', 'Country', 'LabReference', 'SampleType', 'Breed', \n",
    "                                 'PM', 'MH', 'HS', 'MB', 'BRSV', 'PI3', 'BCV', 'Date', 'Postal_code', 'Province', 'FarmID']].copy()\n",
    "\n",
    "# Drop duplicates\n",
    "barometer_dt.drop_duplicates(inplace=True)\n",
    "\n",
    "# Hash Filenumber, Samplenumber, and Farm_ID\n",
    "barometer_dt['FileNumber'] = barometer_dt['FileNumber'].apply(lambda x: hashlib.sha256(str(x).encode()).hexdigest())\n",
    "barometer_dt['SampleNumber'] = barometer_dt['SampleNumber'].apply(lambda x: hashlib.sha256(str(x).encode()).hexdigest())\n",
    "barometer_dt['FarmID'] = barometer_dt['FarmID'].apply(lambda x: hashlib.sha256(str(x).encode()).hexdigest())\n",
    "\n",
    "\n"
   ]
  },
  {
   "cell_type": "code",
   "execution_count": null,
   "id": "8e211ab0",
   "metadata": {},
   "outputs": [],
   "source": [
    "# Floor date to 1st of month\n",
    "#barometer_dt['Floored_date'] = pd.to_datetime(barometer_dt['Date']).dt.to_period('M').dt.to_timestamp()\n",
    "\n",
    "# Add a floored_date column\n",
    "barometer_dt['Floored_date'] = barometer_dt['Date'].apply(lambda x: x - pd.to_timedelta(x.day - 1, unit='d'))\n",
    "\n"
   ]
  },
  {
   "cell_type": "code",
   "execution_count": null,
   "id": "d9736c9a",
   "metadata": {},
   "outputs": [],
   "source": [
    "\n",
    "# Group and aggregate data\n",
    "barometer_groupby = barometer_dt.groupby(['LabReference', 'Country', 'Breed', 'Floored_date', 'Province', 'FarmID', 'DiagnosticTest', 'SampleType']).agg({\n",
    "    'PM': 'max',\n",
    "    'MH': 'max',\n",
    "    'HS': 'max',\n",
    "    'MB': 'max',\n",
    "    'BRSV': 'max',\n",
    "    'PI3': 'max',\n",
    "    'BCV': 'max'\n",
    "}).reset_index()\n",
    "\n",
    "# Convert to long format\n",
    "#pathogens = ['PM', 'MH', 'HS', 'MB', 'BRSV', 'PI3', 'BCV']\n",
    "#barometer_long = pd.melt(barometer_groupby, id_vars=['Lab_reference', 'Country', 'Breed', 'Floored_date', 'Province', 'Farm_ID', 'Diagnostic_test', 'Sample_type'], value_vars=pathogens, var_name='Pathogen', value_name='Result')\n",
    "\n",
    "# Save to CSV\n",
    "#barometer_long.to_csv(\"../Data/CleanedData/barometer_ARSIA.csv\", index=False)\n"
   ]
  },
  {
   "cell_type": "code",
   "execution_count": null,
   "id": "10a40942",
   "metadata": {},
   "outputs": [],
   "source": [
    "\n",
    "# Aggregate data based on farm_ID & month\n",
    "barometer_groupby = barometer_dt.groupby(['LabReference', 'Country', 'Breed', 'Floored_date', 'Province', 'FarmID', 'DiagnosticTest', 'SampleType']).agg({'PM': 'max', 'MH': 'max', 'HS': 'max', 'MB': 'max', 'BRSV': 'max', 'PI3': 'max', 'BCV': 'max'}).reset_index()\n",
    "\n",
    "\n",
    "\n"
   ]
  },
  {
   "cell_type": "code",
   "execution_count": null,
   "id": "3d360537",
   "metadata": {},
   "outputs": [],
   "source": [
    "#Convert the data to the long format:\n",
    "barometer_long = pd.melt(barometer_groupby, id_vars=['LabReference', 'Country', 'Breed', 'Floored_date', 'Province', 'FarmID', 'DiagnosticTest', 'SampleType'], var_name='Pathogen', value_name='Result')\n"
   ]
  },
  {
   "cell_type": "markdown",
   "id": "da18d0cc",
   "metadata": {},
   "source": [
    "### Step 02: Create RDF graph and namespaces "
   ]
  },
  {
   "cell_type": "code",
   "execution_count": null,
   "id": "0a15103b",
   "metadata": {},
   "outputs": [],
   "source": [
    "g = rdflib.Graph()\n",
    "onto = Namespace(\"http://www.purl.org/decide/LivestockHealthOnto\")\n",
    "g.bind('onto', onto)\n",
    "xsd = Namespace('http://www.w3.org/2001/XMLSchema#')\n",
    "g.bind('xsd', xsd)"
   ]
  },
  {
   "cell_type": "markdown",
   "id": "23e6c122",
   "metadata": {},
   "source": [
    "###  Step 03: Iterate over the Panda DataFrame and map to ontology properties:"
   ]
  },
  {
   "cell_type": "code",
   "execution_count": null,
   "id": "f821b6da",
   "metadata": {},
   "outputs": [],
   "source": [
    "# Iterate through the rows of the barometer_long dataframe and create RDF triples\n",
    "for index, row in barometer_long.iterrows():\n",
    "    # Create a URI for the CattleSample based on the index\n",
    "    CattleSample = onto[f\"CattleSample_{index}\"]\n",
    "    \n",
    "    # Add triples for each attribute in the row\n",
    "    g.add((CattleSample, onto.hasDiagnosticTest, Literal(row['DiagnosticTest'], datatype=XSD.string)))\n",
    "    g.add((CattleSample, onto.hasCountry, Literal(row['Country'], datatype=XSD.string)))\n",
    "    g.add((CattleSample, onto.hasBreed, Literal(row['Breed'], datatype=XSD.string)))\n",
    "    g.add((CattleSample, onto.hasDate, Literal(row['Floored_date'], datatype=XSD.string)))\n",
    "    g.add((CattleSample, onto.hasProvince, Literal(row['Province'], datatype=XSD.string)))\n",
    "    g.add((CattleSample, onto.hasFarmIdentification, Literal(row['FarmID'], datatype=XSD.string)))\n",
    "    g.add((CattleSample, onto.hasSampleType, Literal(row['SampleType'], datatype=XSD.string)))\n",
    "    g.add((CattleSample, onto.hasPathogen, Literal(row['Pathogen'], datatype=XSD.string)))\n",
    "    g.add((CattleSample, onto.hasResult, Literal(row['Result'], datatype=XSD.string)))\n",
    "    g.add((CattleSample, onto.hasLabreference, Literal(row['LabReference'], datatype=XSD.string)))\n",
    "    \n",
    "g.serialize(destination='output/RDFoutputCattleSampleLab3.ttl', format='turtle')\n"
   ]
  },
  {
   "cell_type": "markdown",
   "id": "4f13e325",
   "metadata": {},
   "source": [
    "### Step 4: Load the RDF data and ontology into a Panda DataFrame: "
   ]
  },
  {
   "cell_type": "code",
   "execution_count": null,
   "id": "ed0cba68",
   "metadata": {},
   "outputs": [],
   "source": [
    "# Define the original path\n",
    "path_to_RDF = \"output/RDFoutputCattleSampleLab3.ttl\"\n",
    "\n",
    "# Try to parse the file and catch any errors\n",
    "try:\n",
    "    # Create a new graph\n",
    "    g = Graph()\n",
    "\n",
    "    # Parse the RDF file in Turtle format\n",
    "    g.parse(path_to_RDF, format='ttl')\n",
    "\n",
    "    # Parse the ontology file in OWL format and add it to the graph\n",
    "    path_to_ontology = \"Ontology/LivestockHealthOnto1.0.owl\"\n",
    "    g.parse(path_to_ontology, format=\"xml\")\n",
    "    \n",
    "except Exception as e:\n",
    "    # Print the error message\n",
    "    print(f\"An error occurred while parsing the RDF file: {e}\")"
   ]
  },
  {
   "cell_type": "code",
   "execution_count": null,
   "id": "6a2d7a27",
   "metadata": {},
   "outputs": [],
   "source": [
    "#Use RDFS or OWL reasoning to infer additional knowledge\n",
    "g.bind('rdfs', RDFS)\n",
    "g.bind('owl', OWL)\n",
    "g.bind('onto', Namespace(\"http://www.purl.org/decide/LivestockHealthOnto\"))"
   ]
  },
  {
   "cell_type": "markdown",
   "id": "8feba332",
   "metadata": {},
   "source": [
    "### Step 05: Query the data from updated ontology "
   ]
  },
  {
   "cell_type": "code",
   "execution_count": null,
   "id": "eac8024f",
   "metadata": {},
   "outputs": [],
   "source": [
    "# Define the SPARQL query and Query the data from the updated ontology (Simple Query)\n",
    "query = \"\"\"\n",
    "PREFIX onto: <http://www.purl.org/decide/LivestockHealthOnto>\n",
    "SELECT ?FarmIdentification ?DiagnosticTest ?SampleType ?Date ?Breed ?LabReference ?Pathogen ?Country ?Province ?Result\n",
    "WHERE {\n",
    "  ?CattleSample onto:hasFarmIdentification ?FarmIdentification .\n",
    "  ?CattleSample onto:hasDiagnosticTest ?DiagnosticTest .\n",
    "  ?CattleSample onto:hasSampleType ?SampleType .\n",
    "  ?CattleSample onto:hasDate ?Date .\n",
    "  ?CattleSample onto:hasBreed ?Breed .\n",
    "  ?CattleSample onto:hasLabreference ?LabReference .\n",
    "  ?CattleSample onto:hasPathogen ?Pathogen .\n",
    "  ?CattleSample onto:hasCountry ?Country .\n",
    "  ?CattleSample onto:hasProvince ?Province .\n",
    "  ?CattleSample onto:hasResult ?Result .\n",
    "  }\n",
    "\"\"\"\n",
    "\n",
    "# execute the query and retrieve the results\n",
    "results = g.query(query)\n",
    "\n",
    "# convert the results to a Pandas dataframe\n",
    "data = []\n",
    "for row in results:\n",
    "    data.append(list(row))\n",
    "df = pd.DataFrame(data, columns=[\"FarmIdentification\",\"DiagnosticTest\",\"SampleType\", \"Date\", \"Breed\",\"LabReference\",\"Pathogen\", \"Country\",\"Province\",\"Result\"])\n",
    "\n",
    "# display the dataframe\n",
    "df.head()\n"
   ]
  },
  {
   "cell_type": "code",
   "execution_count": null,
   "id": "c40c77a2",
   "metadata": {},
   "outputs": [],
   "source": [
    "# This SPARQL query shows the data over filter if SampleType is Autopsy, diagnostic Test is PCR and Breed is Dairy \n",
    "# Define the SPARQL query and Query the data from the updated ontology (Simple Query)\n",
    "query = \"\"\"\n",
    "PREFIX onto: <http://www.purl.org/decide/LivestockHealthOnto>\n",
    "SELECT ?FarmIdentification ?DiagnosticTest ?SampleType ?Date ?Breed ?LabReference ?Pathogen ?Country ?Province ?Result\n",
    "WHERE {\n",
    "  ?CattleSample onto:hasFarmIdentification ?FarmIdentification .\n",
    "  ?CattleSample onto:hasDiagnosticTest ?DiagnosticTest .\n",
    "  ?CattleSample onto:hasSampleType ?SampleType .\n",
    "  FILTER (?SampleType = \"Swab\")\n",
    "  ?CattleSample onto:hasDate ?Date .\n",
    "  ?CattleSample onto:hasBreed ?Breed .\n",
    "  ?CattleSample onto:hasLabreference ?LabReference .\n",
    "  ?CattleSample onto:hasPathogen ?Pathogen .\n",
    "  FILTER (?Pathogen = \"PM\")\n",
    "  ?CattleSample onto:hasCountry ?Country .\n",
    "  ?CattleSample onto:hasProvince ?Province .\n",
    "  ?CattleSample onto:hasResult ?Result .\n",
    "  }\n",
    "\"\"\"\n",
    "\n",
    "# execute the query and retrieve the results\n",
    "results = g.query(query)\n",
    "\n",
    "# convert the results to a Pandas dataframe\n",
    "data = []\n",
    "for row in results:\n",
    "    data.append(list(row))\n",
    "df = pd.DataFrame(data, columns=[\"FarmIdentification\",\"DiagnosticTest\",\"SampleType\", \"Date\", \"Breed\",\"LabReference\",\"Pathogen\", \"Country\",\"Province\",\"Result\"])\n",
    "\n",
    "# display the dataframe\n",
    "df.head()\n"
   ]
  },
  {
   "cell_type": "code",
   "execution_count": null,
   "id": "fad196ea",
   "metadata": {},
   "outputs": [],
   "source": []
  }
 ],
 "metadata": {
  "kernelspec": {
   "display_name": "Python 3 (ipykernel)",
   "language": "python",
   "name": "python3"
  },
  "language_info": {
   "codemirror_mode": {
    "name": "ipython",
    "version": 3
   },
   "file_extension": ".py",
   "mimetype": "text/x-python",
   "name": "python",
   "nbconvert_exporter": "python",
   "pygments_lexer": "ipython3",
   "version": "3.9.13"
  }
 },
 "nbformat": 4,
 "nbformat_minor": 5
}
