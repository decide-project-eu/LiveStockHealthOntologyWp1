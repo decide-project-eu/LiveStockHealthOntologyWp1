{
 "cells": [
  {
   "cell_type": "code",
   "execution_count": null,
   "id": "7d0c8f33",
   "metadata": {
    "vscode": {
     "languageId": "r"
    }
   },
   "outputs": [],
   "source": [
    "using<-function(...) {\n",
    "    libs<-unlist(list(...))\n",
    "    req<-unlist(lapply(libs,require,character.only=TRUE))\n",
    "    need<-libs[req==FALSE]\n",
    "    if(length(need)>0){ \n",
    "        install.packages(need)\n",
    "        lapply(need,require,character.only=TRUE)\n",
    "    }\n",
    "}"
   ]
  },
  {
   "cell_type": "code",
   "execution_count": null,
   "id": "6979011d",
   "metadata": {
    "vscode": {
     "languageId": "r"
    }
   },
   "outputs": [],
   "source": [
    "using(\"data.table\", \"tidyverse\", \"naniar\", \"stringr\", \"readr\",  \"dplyr\", \"magrittr\", \"readxl\", \"writexl\", \"sjmisc\", \"tidyr\", \"rdflib\"\n",
    "                  )"
   ]
  },
  {
   "cell_type": "code",
   "execution_count": null,
   "id": "eaf3c868",
   "metadata": {
    "vscode": {
     "languageId": "r"
    }
   },
   "outputs": [],
   "source": [
    "##Function to apply SHA-256 hashing\n",
    "\n",
    "sha256_hash <- function(data) {\n",
    "  openssl::sha256(data)\n",
    "}"
   ]
  },
  {
   "cell_type": "code",
   "execution_count": null,
   "id": "eb99a4bb",
   "metadata": {
    "vscode": {
     "languageId": "r"
    }
   },
   "outputs": [],
   "source": [
    "## Data loading\n",
    "\n",
    "\n",
    "\n",
    "barometer_dt_raw <- read.csv(\"Data/Lab4/Lab4_DECIDE_20221201.xlsx\")\n"
   ]
  },
  {
   "cell_type": "code",
   "execution_count": null,
   "id": "9adbeb1b",
   "metadata": {
    "vscode": {
     "languageId": "r"
    }
   },
   "outputs": [],
   "source": [
    "## Adding of rows for pathogens\n",
    "\n",
    "barometer_dt <- barometer_dt_raw %>%\n",
    "  dplyr::mutate(\n",
    "    HS = ifelse(str_detect(pathogens, \"Histophilus somni\"), 1, 0),\n",
    "    MH = ifelse(str_detect(pathogens, \"Mannheimia haemolytica\"), 1, 0),\n",
    "    PM = ifelse(str_detect(pathogens, \"Pasteurella multocida\"), 1, 0),\n",
    "    BCV = ifelse(str_detect(pathogens, \"Bovine coronavirus\"), 1, 0),\n",
    "    MB = ifelse(str_detect(pathogens, \"Mycoplasmopsis bovis\"), 1, 0),\n",
    "    PI3 = ifelse(str_detect(pathogens, \"Bovine respirovirus 3\"), 1, 0),\n",
    "    BRSV = ifelse(str_detect(pathogens, \"Bovine orthopneumovirus\"), 1, 0),\n",
    "  )\n"
   ]
  },
  {
   "cell_type": "code",
   "execution_count": null,
   "id": "6720db39",
   "metadata": {
    "vscode": {
     "languageId": "r"
    }
   },
   "outputs": [],
   "source": [
    "## Data manipulation\n",
    "barometer_dt <- barometer_dt_raw %>% \n",
    "  dplyr::rename(\n",
    "    Filenumber = sample_id,\n",
    "    #Samplenumber = sample_id,\n",
    "    Farm_ID = farm_id,\n",
    "    #Project = project,\n",
    "    Date = created\n",
    "    ) %>%\n",
    "  dplyr::mutate(\n",
    "    Lab_reference ='4',\n",
    "    Diagnostic_test = 'NPS',\n",
    "    Breed = 'Unknown',\n",
    "    Province = NA, \n",
    "    Country = case_when(\n",
    "      country == 'BE' ~ 'Belgium',\n",
    "      country == 'NL' ~ 'The Netherlands'\n",
    "    ),\n",
    "    Sample_type = case_when(\n",
    "      type == 'balFluid' ~ 'BAL',\n",
    "      type == 'noseSwab' ~ 'Swab', \n",
    "      TRUE ~ 'Other' \n",
    "    ),\n",
    "    HS = ifelse(str_detect(pathogens, \"Histophilus somni\"), 1, 0),\n",
    "    MH = ifelse(str_detect(pathogens, \"Mannheimia haemolytica\"), 1, 0),\n",
    "    PM = ifelse(str_detect(pathogens, \"Pasteurella multocida\"), 1, 0),\n",
    "    BCV = ifelse(str_detect(pathogens, \"Bovine coronavirus\"), 1, 0),\n",
    "    MB = ifelse(str_detect(pathogens, \"Mycoplasmopsis bovis\"), 1, 0),\n",
    "    PI3 = ifelse(str_detect(pathogens, \"Bovine respirovirus 3\"), 1, 0),\n",
    "    BRSV = ifelse(str_detect(pathogens, \"Bovine orthopneumovirus\"), 1, 0)\n",
    "    \n",
    "  )%>%\n",
    "  dplyr::select(\n",
    "    Filenumber,\n",
    "    Lab_reference,\n",
    "    Country,\n",
    "    Breed,\n",
    "    Province,\n",
    "    Farm_ID,\n",
    "    Diagnostic_test,\n",
    "    Sample_type,\n",
    "    PM,\n",
    "    MH,\n",
    "    HS,\n",
    "    MB,\n",
    "    BRSV,\n",
    "    PI3,\n",
    "    BCV,\n",
    "    Date\n",
    "  ) %>%\n",
    "  dplyr::distinct()%>%\n",
    "dplyr::mutate(\n",
    "    Filenumber = sha256_hash(as.character(Filenumber)),\n",
    "    Farm_ID = sha256_hash(as.character(Farm_ID))\n",
    "    )\n"
   ]
  },
  {
   "cell_type": "code",
   "execution_count": null,
   "id": "37d01de2",
   "metadata": {
    "vscode": {
     "languageId": "r"
    }
   },
   "outputs": [],
   "source": [
    "## Floor date to 1st of month\n",
    "\n",
    "\n",
    "\n",
    "barometer_dt$Date <- lubridate::ymd_hms(barometer_dt$Date)\n",
    "barometer_dt$Floored_date <- lubridate::floor_date(barometer_dt$Date, \"month\")\n",
    "\n",
    "## Aggregate data based on farm_ID & month\n",
    "\n",
    "\n",
    "barometer_groupby <- barometer_dt %>%\n",
    "  group_by(Lab_reference, Country, Breed, Floored_date, Province, Farm_ID, Diagnostic_test, Sample_type) %>%\n",
    "  summarise(across(c(PM, MH, HS, MB, BRSV, PI3, BCV), max))\n",
    "\n",
    "# If all are NA, than NA, if not (else): max in group, while ignoring NA \n",
    "\n",
    "\n",
    "## Convert to long\n",
    "\n",
    "barometer_long <- barometer_groupby %>%\n",
    "  tidyr::pivot_longer(\n",
    "    cols = c('PM', 'MH', 'HS', 'MB', 'BRSV', 'PI3', 'BCV'),\n",
    "    names_to = 'Pathogen',\n",
    "    values_to = 'Result',\n",
    "  )\n",
    "\n"
   ]
  },
  {
   "cell_type": "code",
   "execution_count": null,
   "id": "c961fa4b",
   "metadata": {
    "vscode": {
     "languageId": "r"
    }
   },
   "outputs": [],
   "source": [
    "library(magrittr)\n",
    "library(rdflib)\n",
    "library(XML)"
   ]
  },
  {
   "cell_type": "code",
   "execution_count": null,
   "id": "0fc437ef",
   "metadata": {
    "vscode": {
     "languageId": "r"
    }
   },
   "outputs": [],
   "source": [
    "# create an RDF object\n",
    "Literal <- function(value, datatype=\"xsd:string\") {\n",
    "  rdf_literal(value, datatype=datatype)\n",
    "}\n",
    "rdf <- rdf()\n",
    " \n",
    "# create a namespace prefix for the ontology\n",
    "onto <- \"http://www.purl.org/decide/LivestockHealthOnto\"\n",
    " \n",
    "# iterate through each row in the barometer DataFrame\n",
    "for (i in 1:nrow(barometer_long)) {\n",
    "  row <- barometer_long[i,] \n",
    "# create a URI for the CattleSample individual based on the row ID\n",
    "CattleSample <- paste0(onto, \"CattleSample\", i)\n",
    "\n",
    "# add triples to the RDF graph\n",
    "\n",
    "\n",
    "  #rdf_add(rdf, CattleSample, paste0(prefix, \"hasBreed\"), as.character(row[3]), datatype=\"xsd:string\")\n",
    "  rdf_add(rdf, CattleSample, paste0(onto, \"hasLabReference\"), ifelse(is.na(row$Lab_reference), \"\", as.character(row$Lab_reference)))\n",
    "  rdf_add(rdf, CattleSample, paste0(onto, \"hasCountry\"), ifelse(is.na(row$Country), \"\", as.character(row$Country)))\n",
    "  rdf_add(rdf, CattleSample, paste0(onto, \"hasBreed\"), ifelse(is.na(row$Breed), \"\", as.character(row$Breed)), datatype=\"xsd:string\")\n",
    "  rdf_add(rdf, CattleSample, paste0(onto, \"hasDate\"), ifelse(is.na(row$Floored_date), \"\", as.character(row$Floored_date)), datatype=\"xsd:string\")\n",
    "  rdf_add(rdf, CattleSample, paste0(onto, \"hasProvince\"), ifelse(is.na(row$Province), \"\", as.character(row$Province)), datatype=\"xsd:string\")\n",
    "  rdf_add(rdf, CattleSample, paste0(onto, \"hasFarmIdentification\"), ifelse(is.na(row$Farm_ID), \"\", as.character(row$Farm_ID)), datatype=\"xsd:string\")\n",
    "  rdf_add(rdf, CattleSample, paste0(onto, \"hasDiagnosticTest\"), ifelse(is.na(row$Diagnostic_test), \"\", as.character(row$Diagnostic_test)), datatype=\"xsd:string\")\n",
    "  rdf_add(rdf, CattleSample, paste0(onto, \"hasSampleType\"), ifelse(is.na(row$Sample_type), \"\", as.character(row$Sample_type)), datatype=\"xsd:string\")\n",
    "  rdf_add(rdf, CattleSample, paste0(onto, \"hasPathogen\"), ifelse(is.na(row$Pathogen), \"\", as.character(row$Pathogen)), datatype=\"xsd:string\")\n",
    "  rdf_add(rdf, CattleSample, paste0(onto, \"hasResult\"), ifelse(is.na(row$Result), \"Missing\", as.character(row$Result)), datatype=\"xsd:string\")\n",
    "\n",
    "}\n",
    " \n",
    "# print the RDF graph (for testing)\n",
    "cat(rdf_serialize(rdf, format=\"turtle\"))\n",
    " \n",
    "# output the RDF graph to a file\n",
    "## Save file to RDF (Long Version) instead of CSV\n",
    "rdf_serialize(rdf, \"output/RDFoutputCattleSampleLab4.ttl\", format=\"turtle\")"
   ]
  },
  {
   "cell_type": "code",
   "execution_count": null,
   "id": "97cd0fd3",
   "metadata": {
    "vscode": {
     "languageId": "r"
    }
   },
   "outputs": [],
   "source": []
  }
 ],
 "metadata": {
  "kernelspec": {
   "display_name": "R",
   "language": "R",
   "name": "ir"
  },
  "language_info": {
   "codemirror_mode": "r",
   "file_extension": ".r",
   "mimetype": "text/x-r-source",
   "name": "R",
   "pygments_lexer": "r",
   "version": "4.1.3"
  }
 },
 "nbformat": 4,
 "nbformat_minor": 5
}
